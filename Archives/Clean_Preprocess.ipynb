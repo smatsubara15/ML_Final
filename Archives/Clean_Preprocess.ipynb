{
 "cells": [
  {
   "cell_type": "code",
   "execution_count": 1,
   "id": "0c1e68eb-17e3-489b-afb8-a9730abd4a70",
   "metadata": {},
   "outputs": [],
   "source": [
    "import time\n",
    "import math\n",
    "import re\n",
    "from textblob import TextBlob\n",
    "import pandas as pd\n",
    "\n",
    "import nltk as nltk\n",
    "from nltk.corpus import stopwords\n",
    "from nltk.stem.wordnet import WordNetLemmatizer\n",
    "\n",
    "import string\n",
    "\n",
    "\n",
    "import gensim\n",
    "from gensim import corpora, models\n",
    "from gensim.models.ldamulticore import LdaMulticore\n",
    "from gensim.models import CoherenceModel\n",
    "\n",
    "# import pyLDAvis.gensim\n",
    "import pyLDAvis\n",
    "import pyLDAvis.gensim_models as gensimvis\n",
    "from gensim.utils import simple_preprocess\n",
    "pyLDAvis.enable_notebook()\n",
    "\n",
    "pd.set_option('display.max_rows', 100)\n",
    "pd.set_option('display.max_columns', None)\n",
    "pd.set_option('display.max_colwidth', 500)"
   ]
  },
  {
   "cell_type": "code",
   "execution_count": 2,
   "id": "19a6067b-19c3-403b-bdb7-c43425457c02",
   "metadata": {},
   "outputs": [
    {
     "name": "stdout",
     "output_type": "stream",
     "text": [
      "Available CPUs: 16\n"
     ]
    }
   ],
   "source": [
    "import multiprocessing\n",
    "\n",
    "num_processors = multiprocessing.cpu_count()\n",
    "print(f'Available CPUs: {num_processors}')\n",
    "\n",
    "workers = num_processors-1"
   ]
  },
  {
   "cell_type": "code",
   "execution_count": 3,
   "id": "cecf227f-215d-4997-b100-32dc41348c49",
   "metadata": {},
   "outputs": [
    {
     "name": "stdout",
     "output_type": "stream",
     "text": [
      "INFO: Pandarallel will run on 15 workers.\n",
      "INFO: Pandarallel will use standard multiprocessing data transfer (pipe) to transfer data between the main process and workers.\n"
     ]
    }
   ],
   "source": [
    "#! pip install pandarallel\n",
    "import pandarallel\n",
    "from pandarallel import pandarallel\n",
    "pandarallel.initialize(nb_workers=num_processors-1, use_memory_fs=False)"
   ]
  },
  {
   "cell_type": "code",
   "execution_count": 9,
   "id": "a75ab1c5-42f9-45ac-8da2-0c5123e92a8b",
   "metadata": {},
   "outputs": [],
   "source": [
    "from google.cloud import storage\n",
    "import os\n",
    "import io\n",
    "client = storage.Client()\n",
    "bucket = client.get_bucket('nlp_final_data')\n",
    "\n",
    "#blob = bucket.blob('data_no_stop.csv')\n",
    "blob = bucket.blob('songs_even_sample.csv')\n",
    "content = blob.download_as_string()\n",
    "\n",
    "songs = pd.read_csv(io.BytesIO(content))"
   ]
  },
  {
   "cell_type": "code",
   "execution_count": null,
   "id": "73bbfe58-6e5b-4083-a69d-51fb9f94b03e",
   "metadata": {},
   "outputs": [],
   "source": []
  },
  {
   "cell_type": "code",
   "execution_count": 12,
   "id": "57591108-e620-46f2-a79b-1925776e0926",
   "metadata": {},
   "outputs": [
    {
     "data": {
      "text/html": [
       "<div>\n",
       "<style scoped>\n",
       "    .dataframe tbody tr th:only-of-type {\n",
       "        vertical-align: middle;\n",
       "    }\n",
       "\n",
       "    .dataframe tbody tr th {\n",
       "        vertical-align: top;\n",
       "    }\n",
       "\n",
       "    .dataframe thead th {\n",
       "        text-align: right;\n",
       "    }\n",
       "</style>\n",
       "<table border=\"1\" class=\"dataframe\">\n",
       "  <thead>\n",
       "    <tr style=\"text-align: right;\">\n",
       "      <th></th>\n",
       "      <th>Unnamed: 0</th>\n",
       "      <th>title</th>\n",
       "      <th>tag</th>\n",
       "      <th>artist</th>\n",
       "      <th>year</th>\n",
       "      <th>views</th>\n",
       "      <th>features</th>\n",
       "      <th>lyrics</th>\n",
       "      <th>id</th>\n",
       "      <th>language_cld3</th>\n",
       "      <th>language_ft</th>\n",
       "      <th>language</th>\n",
       "      <th>lyrics_cleaned</th>\n",
       "    </tr>\n",
       "  </thead>\n",
       "  <tbody>\n",
       "    <tr>\n",
       "      <th>0</th>\n",
       "      <td>0</td>\n",
       "      <td>Hi-TEX</td>\n",
       "      <td>rap</td>\n",
       "      <td>Notty Taylor</td>\n",
       "      <td>2018</td>\n",
       "      <td>37</td>\n",
       "      <td>{}</td>\n",
       "      <td>[VERSE 1]\\nKeep it 100 wit me\\nCan't afford 50/50\\n****** trap phone was jiggin'\\nWe thought he ran the city\\nYou on the way to money\\nYou going hundred fifty\\nWe counting 100s, 50s\\nMy niggas getting jiggy\\nMy niggas getting grimy\\nThese niggas getting grimy\\nThese niggas taking lives\\nThese niggas shoot and fire\\nWe gotta aim higher\\nThese pigs tryna tame lions\\nWe don't trust outsiders\\nIn the summer we count bodies\\nUmma smoke away all my problems\\n\\n[PRE-HOOK]\\nFeel good, don't know\\nWo...</td>\n",
       "      <td>4068265</td>\n",
       "      <td>en</td>\n",
       "      <td>en</td>\n",
       "      <td>en</td>\n",
       "      <td>Keep it 100 wit me Can't afford 50/50 ****** trap phone was jiggin' We thought he ran the city You on the way to money You going hundred fifty We counting 100s, 50s My niggas getting jiggy My niggas getting grimy These niggas getting grimy These niggas taking lives These niggas shoot and fire We gotta aim higher These pigs tryna tame lions We don't trust outsiders In the summer we count bodies Umma smoke away all my problems   Feel good, don't know Won't know, smoke more Get gone, go home H...</td>\n",
       "    </tr>\n",
       "    <tr>\n",
       "      <th>1</th>\n",
       "      <td>1</td>\n",
       "      <td>Foes</td>\n",
       "      <td>rap</td>\n",
       "      <td>Sk, the Novelist</td>\n",
       "      <td>2017</td>\n",
       "      <td>34</td>\n",
       "      <td>{\"Sk / the Novelist\"}</td>\n",
       "      <td>[Intro]\\nDevil creeping up on me, he's trying to get real close\\nGod be on my side and we both be in battle pose\\nThis the final lap and I don't really mean to boast\\nBut, got the key to victory, you hitting sour notes\\nDevil creeping up on me, he's trying to get real close\\nGod be on my side and we both be in battle pose\\nThis the final lap and I don't really mean to boast.....\\n\\n[Chorus]\\nOkay, yeah\\nI got love, love, love for my city\\nI got love, love, love for my foes\\nI got love, love,...</td>\n",
       "      <td>2974557</td>\n",
       "      <td>en</td>\n",
       "      <td>en</td>\n",
       "      <td>en</td>\n",
       "      <td>Devil creeping up on me, he's trying to get real close God be on my side and we both be in battle pose This the final lap and I don't really mean to boast But, got the key to victory, you hitting sour notes Devil creeping up on me, he's trying to get real close God be on my side and we both be in battle pose This the final lap and I don't really mean to boast.....   Okay, yeah I got love, love, love for my city I got love, love, love for my foes I got love, love, good people with me I got l...</td>\n",
       "    </tr>\n",
       "    <tr>\n",
       "      <th>2</th>\n",
       "      <td>2</td>\n",
       "      <td>Omnitrix</td>\n",
       "      <td>rap</td>\n",
       "      <td>Coults</td>\n",
       "      <td>2021</td>\n",
       "      <td>52</td>\n",
       "      <td>{}</td>\n",
       "      <td>Intro:\\nWoo! (Uhuh, uhuh, uhuh)\\nWoo! (Uhuh, uhuh, uhuh)\\nIf you thought I ain’t gonna talk my shit you were smoking on spice!\\nHuh, Please refrain from playin wit me, I am not that guy!\\n\\nVerse 1:\\nLiving a movie and I’m in the lead (uhuh)\\nI’m a simple guy, I’ll pull up with 1,2,3,4,5,6 Gs\\nI flooded my bitch, I flooded my wrist, what you know 'bout tsunamis\\nMan got in his bag, what you know 'bout a bag, this bag can’t fit in my jeans\\n\\nChorus:\\nAhh, You could call me Grandpa Max, Hawai...</td>\n",
       "      <td>7360310</td>\n",
       "      <td>en</td>\n",
       "      <td>en</td>\n",
       "      <td>en</td>\n",
       "      <td>Intro: Woo! (Uhuh, uhuh, uhuh) Woo! (Uhuh, uhuh, uhuh) If you thought I ain’t gonna talk my shit you were smoking on spice! Huh, Please refrain from playin wit me, I am not that guy!  Verse 1: Living a movie and I’m in the lead (uhuh) I’m a simple guy, I’ll pull up with 1,2,3,4,5,6 Gs I flooded my bitch, I flooded my wrist, what you know 'bout tsunamis Man got in his bag, what you know 'bout a bag, this bag can’t fit in my jeans  Chorus: Ahh, You could call me Grandpa Max, Hawaiian clothes! ...</td>\n",
       "    </tr>\n",
       "    <tr>\n",
       "      <th>3</th>\n",
       "      <td>3</td>\n",
       "      <td>Do What I Want</td>\n",
       "      <td>rap</td>\n",
       "      <td>Champagne937</td>\n",
       "      <td>2019</td>\n",
       "      <td>17</td>\n",
       "      <td>{}</td>\n",
       "      <td>“Really I’m  a genius bro, I’m really and truly a genius, and niggas hate me\\nThey hate on me cause I’m rich, I look better than them\\nI probably fucked they bitch, it is what it is”\\nI Love Champagne\\nJETWAY\\n\\nYou got on designer I hope That its bulletproof\\nIt’s Jetway nigga who is you\\nI’m fucking ya bitch an I kept on my tennis shoes\\nYeah I do what real niggas do\\nMe and Cierra said fuck it an took a cruise\\nBoat jumping like kangaroos\\nHer friends is a Delta the other a Zeta\\nTogether...</td>\n",
       "      <td>4981347</td>\n",
       "      <td>en</td>\n",
       "      <td>en</td>\n",
       "      <td>en</td>\n",
       "      <td>“Really I’m  a genius bro, I’m really and truly a genius, and niggas hate me They hate on me cause I’m rich, I look better than them I probably fucked they bitch, it is what it is” I Love Champagne JETWAY  You got on designer I hope That its bulletproof It’s Jetway nigga who is you I’m fucking ya bitch an I kept on my tennis shoes Yeah I do what real niggas do Me and Cierra said fuck it an took a cruise Boat jumping like kangaroos Her friends is a Delta the other a Zeta Together them bitches...</td>\n",
       "    </tr>\n",
       "    <tr>\n",
       "      <th>4</th>\n",
       "      <td>4</td>\n",
       "      <td>The Perfect Song</td>\n",
       "      <td>rap</td>\n",
       "      <td>.qabriel</td>\n",
       "      <td>2020</td>\n",
       "      <td>12</td>\n",
       "      <td>{Yubari}</td>\n",
       "      <td>[Chorus]\\nThis be the perfect song\\nWe ain't worried bout no feelings\\nMaking straight classics\\nWith me and my niggas\\nThis the perfect song for moment\\nNeed me a bad little biddie\\nNot afraid to hop on it\\nIf this the perfect song\\nThen let me know\\nPop that kitty on a cam episode\\nYou need a perfect song\\nThen I got you\\nYou know that\\nOne more 'gain\\nRun it up like a throwback\\n\\n[Verse 1: qabriel]\\nI been that nigga\\n336 verified from the gate\\nBoro boy out West\\nGiving all them a taste...</td>\n",
       "      <td>5721686</td>\n",
       "      <td>en</td>\n",
       "      <td>en</td>\n",
       "      <td>en</td>\n",
       "      <td>This be the perfect song We ain't worried bout no feelings Making straight classics With me and my niggas This the perfect song for moment Need me a bad little biddie Not afraid to hop on it If this the perfect song Then let me know Pop that kitty on a cam episode You need a perfect song Then I got you You know that One more 'gain Run it up like a throwback   I been that nigga 336 verified from the gate Boro boy out West Giving all them a taste I'm a southern kind of king Hospitality is A1 ...</td>\n",
       "    </tr>\n",
       "  </tbody>\n",
       "</table>\n",
       "</div>"
      ],
      "text/plain": [
       "   Unnamed: 0             title  tag            artist  year  views  \\\n",
       "0           0            Hi-TEX  rap      Notty Taylor  2018     37   \n",
       "1           1              Foes  rap  Sk, the Novelist  2017     34   \n",
       "2           2          Omnitrix  rap            Coults  2021     52   \n",
       "3           3    Do What I Want  rap      Champagne937  2019     17   \n",
       "4           4  The Perfect Song  rap          .qabriel  2020     12   \n",
       "\n",
       "                features  \\\n",
       "0                     {}   \n",
       "1  {\"Sk / the Novelist\"}   \n",
       "2                     {}   \n",
       "3                     {}   \n",
       "4               {Yubari}   \n",
       "\n",
       "                                                                                                                                                                                                                                                                                                                                                                                                                                                                                                                lyrics  \\\n",
       "0  [VERSE 1]\\nKeep it 100 wit me\\nCan't afford 50/50\\n****** trap phone was jiggin'\\nWe thought he ran the city\\nYou on the way to money\\nYou going hundred fifty\\nWe counting 100s, 50s\\nMy niggas getting jiggy\\nMy niggas getting grimy\\nThese niggas getting grimy\\nThese niggas taking lives\\nThese niggas shoot and fire\\nWe gotta aim higher\\nThese pigs tryna tame lions\\nWe don't trust outsiders\\nIn the summer we count bodies\\nUmma smoke away all my problems\\n\\n[PRE-HOOK]\\nFeel good, don't know\\nWo...   \n",
       "1  [Intro]\\nDevil creeping up on me, he's trying to get real close\\nGod be on my side and we both be in battle pose\\nThis the final lap and I don't really mean to boast\\nBut, got the key to victory, you hitting sour notes\\nDevil creeping up on me, he's trying to get real close\\nGod be on my side and we both be in battle pose\\nThis the final lap and I don't really mean to boast.....\\n\\n[Chorus]\\nOkay, yeah\\nI got love, love, love for my city\\nI got love, love, love for my foes\\nI got love, love,...   \n",
       "2  Intro:\\nWoo! (Uhuh, uhuh, uhuh)\\nWoo! (Uhuh, uhuh, uhuh)\\nIf you thought I ain’t gonna talk my shit you were smoking on spice!\\nHuh, Please refrain from playin wit me, I am not that guy!\\n\\nVerse 1:\\nLiving a movie and I’m in the lead (uhuh)\\nI’m a simple guy, I’ll pull up with 1,2,3,4,5,6 Gs\\nI flooded my bitch, I flooded my wrist, what you know 'bout tsunamis\\nMan got in his bag, what you know 'bout a bag, this bag can’t fit in my jeans\\n\\nChorus:\\nAhh, You could call me Grandpa Max, Hawai...   \n",
       "3  “Really I’m  a genius bro, I’m really and truly a genius, and niggas hate me\\nThey hate on me cause I’m rich, I look better than them\\nI probably fucked they bitch, it is what it is”\\nI Love Champagne\\nJETWAY\\n\\nYou got on designer I hope That its bulletproof\\nIt’s Jetway nigga who is you\\nI’m fucking ya bitch an I kept on my tennis shoes\\nYeah I do what real niggas do\\nMe and Cierra said fuck it an took a cruise\\nBoat jumping like kangaroos\\nHer friends is a Delta the other a Zeta\\nTogether...   \n",
       "4  [Chorus]\\nThis be the perfect song\\nWe ain't worried bout no feelings\\nMaking straight classics\\nWith me and my niggas\\nThis the perfect song for moment\\nNeed me a bad little biddie\\nNot afraid to hop on it\\nIf this the perfect song\\nThen let me know\\nPop that kitty on a cam episode\\nYou need a perfect song\\nThen I got you\\nYou know that\\nOne more 'gain\\nRun it up like a throwback\\n\\n[Verse 1: qabriel]\\nI been that nigga\\n336 verified from the gate\\nBoro boy out West\\nGiving all them a taste...   \n",
       "\n",
       "        id language_cld3 language_ft language  \\\n",
       "0  4068265            en          en       en   \n",
       "1  2974557            en          en       en   \n",
       "2  7360310            en          en       en   \n",
       "3  4981347            en          en       en   \n",
       "4  5721686            en          en       en   \n",
       "\n",
       "                                                                                                                                                                                                                                                                                                                                                                                                                                                                                                        lyrics_cleaned  \n",
       "0   Keep it 100 wit me Can't afford 50/50 ****** trap phone was jiggin' We thought he ran the city You on the way to money You going hundred fifty We counting 100s, 50s My niggas getting jiggy My niggas getting grimy These niggas getting grimy These niggas taking lives These niggas shoot and fire We gotta aim higher These pigs tryna tame lions We don't trust outsiders In the summer we count bodies Umma smoke away all my problems   Feel good, don't know Won't know, smoke more Get gone, go home H...  \n",
       "1   Devil creeping up on me, he's trying to get real close God be on my side and we both be in battle pose This the final lap and I don't really mean to boast But, got the key to victory, you hitting sour notes Devil creeping up on me, he's trying to get real close God be on my side and we both be in battle pose This the final lap and I don't really mean to boast.....   Okay, yeah I got love, love, love for my city I got love, love, love for my foes I got love, love, good people with me I got l...  \n",
       "2  Intro: Woo! (Uhuh, uhuh, uhuh) Woo! (Uhuh, uhuh, uhuh) If you thought I ain’t gonna talk my shit you were smoking on spice! Huh, Please refrain from playin wit me, I am not that guy!  Verse 1: Living a movie and I’m in the lead (uhuh) I’m a simple guy, I’ll pull up with 1,2,3,4,5,6 Gs I flooded my bitch, I flooded my wrist, what you know 'bout tsunamis Man got in his bag, what you know 'bout a bag, this bag can’t fit in my jeans  Chorus: Ahh, You could call me Grandpa Max, Hawaiian clothes! ...  \n",
       "3  “Really I’m  a genius bro, I’m really and truly a genius, and niggas hate me They hate on me cause I’m rich, I look better than them I probably fucked they bitch, it is what it is” I Love Champagne JETWAY  You got on designer I hope That its bulletproof It’s Jetway nigga who is you I’m fucking ya bitch an I kept on my tennis shoes Yeah I do what real niggas do Me and Cierra said fuck it an took a cruise Boat jumping like kangaroos Her friends is a Delta the other a Zeta Together them bitches...  \n",
       "4   This be the perfect song We ain't worried bout no feelings Making straight classics With me and my niggas This the perfect song for moment Need me a bad little biddie Not afraid to hop on it If this the perfect song Then let me know Pop that kitty on a cam episode You need a perfect song Then I got you You know that One more 'gain Run it up like a throwback   I been that nigga 336 verified from the gate Boro boy out West Giving all them a taste I'm a southern kind of king Hospitality is A1 ...  "
      ]
     },
     "execution_count": 12,
     "metadata": {},
     "output_type": "execute_result"
    }
   ],
   "source": [
    "songs.head(5)"
   ]
  },
  {
   "cell_type": "code",
   "execution_count": 7,
   "id": "69331aa3-2ad8-4228-bfab-52bd583e819f",
   "metadata": {},
   "outputs": [
    {
     "name": "stdout",
     "output_type": "stream",
     "text": [
      "CPU times: user 8.82 s, sys: 65.8 ms, total: 8.89 s\n",
      "Wall time: 8.88 s\n"
     ]
    }
   ],
   "source": [
    "%%time\n",
    "\n",
    "def sent_to_words(sentences):\n",
    "    for sentence in sentences:\n",
    "        yield(gensim.utils.simple_preprocess(str(sentence), deacc=True))  # deacc=True removes punctuations\n",
    "        \n",
    "\n",
    "songs['lyrics_cleaned'] = songs['lyrics_cleaned'].map(lambda x: re.sub('[^a-zA-Z0-9 @ . , : - _]', '', str(x)))\n",
    "data_list = songs['lyrics_cleaned'].tolist()"
   ]
  },
  {
   "cell_type": "code",
   "execution_count": 8,
   "id": "4d5631e5-1b6e-4773-aaef-b6857ff6ee25",
   "metadata": {},
   "outputs": [],
   "source": [
    "data_tokens = list(sent_to_words(data_list))"
   ]
  },
  {
   "cell_type": "code",
   "execution_count": 12,
   "id": "17eb8e87-6f31-4bb5-b814-040abe7cb547",
   "metadata": {},
   "outputs": [],
   "source": [
    "songs['data_tokens'] = data_tokens"
   ]
  },
  {
   "cell_type": "code",
   "execution_count": 15,
   "id": "197621ba-c343-44b9-8b19-c91b5cd26da1",
   "metadata": {},
   "outputs": [],
   "source": [
    "songs_tokens = songs[['title','tag','artist','data_tokens']]"
   ]
  },
  {
   "cell_type": "code",
   "execution_count": 16,
   "id": "e7ae1742-254a-446a-9f7e-0349830c6746",
   "metadata": {},
   "outputs": [],
   "source": [
    "songs_tokens.to_csv('songs_w_tokens.csv')"
   ]
  },
  {
   "cell_type": "code",
   "execution_count": null,
   "id": "116f6101-34d9-4a10-b102-8773842e040f",
   "metadata": {},
   "outputs": [],
   "source": [
    "bigram = gensim.models.Phrases(data_tokens, min_count=1, threshold=1)\n",
    "trigram = gensim.models.Phrases(bigram[data_tokens], threshold=1)\n",
    "\n",
    "bigram_mod = gensim.models.phrases.Phraser(bigram)\n",
    "trigram_mod = gensim.models.phrases.Phraser(trigram)"
   ]
  },
  {
   "cell_type": "code",
   "execution_count": 9,
   "id": "48da2920-280e-4342-b99d-79992ad5c4f0",
   "metadata": {},
   "outputs": [
    {
     "name": "stdout",
     "output_type": "stream",
     "text": [
      "CPU times: user 2.72 ms, sys: 3.84 ms, total: 6.56 ms\n",
      "Wall time: 3.92 ms\n"
     ]
    }
   ],
   "source": [
    "%%time\n",
    "\n",
    "stop_words = stopwords.words('english')\n",
    "\n",
    "# Define functions for stopwords, bigrams, trigrams and lemmatization\n",
    "def remove_stopwords(texts):\n",
    "    return [[word for word in simple_preprocess(str(doc)) if word not in stop_words] for doc in texts]\n",
    "\n",
    "def make_bigrams(texts):\n",
    "    return [bigram_mod[doc] for doc in texts]\n",
    "\n",
    "def make_trigrams(texts):\n",
    "    return [trigram_mod[bigram_mod[doc]] for doc in texts]\n",
    "\n",
    "def lemmatization(texts, allowed_postags=['NOUN', 'ADJ', 'VERB', 'ADV']):\n",
    "    \"\"\"https://spacy.io/api/annotation\"\"\"\n",
    "    texts_out = []\n",
    "    for sent in texts:\n",
    "        doc = nlp(\" \".join(sent)) \n",
    "        texts_out.append([token.lemma_ for token in doc if token.pos_ in allowed_postags])\n",
    "    return texts_out"
   ]
  },
  {
   "cell_type": "code",
   "execution_count": 10,
   "id": "1b4fd276-fffc-4072-9b7b-84541727443e",
   "metadata": {},
   "outputs": [],
   "source": [
    "# Remove Stop Words\n",
    "data_tokens_nostops = remove_stopwords(list(df.data_tokens))"
   ]
  },
  {
   "cell_type": "code",
   "execution_count": 12,
   "id": "5c29a86b-9bc3-4818-9543-17d463d721c8",
   "metadata": {},
   "outputs": [],
   "source": [
    "df['tokens_no_stop'] = data_tokens_nostops"
   ]
  },
  {
   "cell_type": "code",
   "execution_count": 14,
   "id": "64f015d9-8dbb-4d27-81c9-16afbc20a275",
   "metadata": {},
   "outputs": [],
   "source": [
    "df.drop(columns=['Unnamed: 0','data_tokens']).to_csv('data_no_stop.csv')"
   ]
  },
  {
   "cell_type": "code",
   "execution_count": 15,
   "id": "4fecd9eb-f493-4f98-a6c7-427a8173a7a5",
   "metadata": {},
   "outputs": [],
   "source": [
    "blob = bucket.blob('data_no_stop.csv')\n",
    "blob.upload_from_filename('data_no_stop.csv')"
   ]
  },
  {
   "cell_type": "code",
   "execution_count": null,
   "id": "630ac979-1d52-421d-91e6-cf2cb04798f2",
   "metadata": {},
   "outputs": [],
   "source": [
    "%%time\n",
    "# Create n-grams\n",
    "data_words_bigrams = make_bigrams(data_tokens_nostops)\n",
    "data_words_trigrams = make_trigrams(data_tokens_nostops)\n",
    "\n",
    "# Combine tokens and n-grams\n",
    "data_tokens_cobnined = data_tokens_nostops + data_words_bigrams + data_words_trigrams\n",
    "#data_tokens_cobnined = data_words_trigrams\n",
    "\n",
    "# Initialize spacy 'en' model, keeping only tagger component (for efficiency)\n",
    "nlp = spacy.load(\"en_core_web_sm\", disable=['parser', 'ner'])\n",
    "\n",
    "# Lemmatize text keeping only noun, adj, vb, adv\n",
    "data_lemmatized = lemmatization(data_tokens_cobnined, allowed_postags=['NOUN', 'ADJ', 'VERB', 'ADV'])\n"
   ]
  },
  {
   "cell_type": "code",
   "execution_count": null,
   "id": "8f68de2f-2231-4069-a266-e16e1e87908e",
   "metadata": {},
   "outputs": [],
   "source": [
    "# assumptions. Heavily depend on the set of songs that we have for analysis and doesnt represent the entirity of the genre. "
   ]
  }
 ],
 "metadata": {
  "environment": {
   "kernel": "python3",
   "name": "tf2-gpu.2-8.m108",
   "type": "gcloud",
   "uri": "gcr.io/deeplearning-platform-release/tf2-gpu.2-8:m108"
  },
  "kernelspec": {
   "display_name": "Python 3 (ipykernel)",
   "language": "python",
   "name": "python3"
  },
  "language_info": {
   "codemirror_mode": {
    "name": "ipython",
    "version": 3
   },
   "file_extension": ".py",
   "mimetype": "text/x-python",
   "name": "python",
   "nbconvert_exporter": "python",
   "pygments_lexer": "ipython3",
   "version": "3.7.12"
  }
 },
 "nbformat": 4,
 "nbformat_minor": 5
}
