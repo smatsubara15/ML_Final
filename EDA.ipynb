{
 "cells": [
  {
   "cell_type": "code",
   "execution_count": 105,
   "id": "91258cfe",
   "metadata": {},
   "outputs": [],
   "source": [
    "import pandas as pd\n",
    "import csv\n",
    "\n",
    "import matplotlib.pyplot as plt\n",
    "import seaborn as sns\n",
    "\n",
    "import time\n",
    "import math\n",
    "import re\n",
    "from textblob import TextBlob\n",
    "\n",
    "import nltk as nltk\n",
    "from nltk.corpus import stopwords\n",
    "from nltk.stem.wordnet import WordNetLemmatizer\n",
    "\n",
    "import string\n",
    "\n",
    "\n",
    "import gensim\n",
    "from gensim import corpora, models\n",
    "from gensim.models.ldamulticore import LdaMulticore\n",
    "from gensim.models import CoherenceModel\n",
    "\n",
    "# import pyLDAvis.gensim\n",
    "import pyLDAvis\n",
    "import pyLDAvis.gensim_models as gensimvis\n",
    "from gensim.utils import simple_preprocess\n",
    "pyLDAvis.enable_notebook()\n",
    "\n",
    "pd.set_option('display.max_rows', 100)\n",
    "pd.set_option('display.max_columns', None)\n",
    "pd.set_option('display.max_colwidth', 500)"
   ]
  },
  {
   "cell_type": "code",
   "execution_count": 5,
   "id": "bd140af2",
   "metadata": {},
   "outputs": [],
   "source": [
    "# this data was obtained in a previous course: Data Mining with Utku Winter 2023\n",
    "# used this dataset: https://www.kaggle.com/datasets/maharshipandya/-spotify-tracks-dataset\n",
    "# scraped lyrics for these songs using Lyric Genius API\n",
    "songs_lyrics = pd.read_csv('Data/ML_lyrics_genre.csv')"
   ]
  },
  {
   "cell_type": "code",
   "execution_count": null,
   "id": "9dc7f683",
   "metadata": {},
   "outputs": [],
   "source": [
    "# Huge dataset: https://www.kaggle.com/datasets/carlosgdcj/genius-song-lyrics-with-language-information \n",
    "\n",
    "# cleaned: https://data.mendeley.com/datasets/3t9vbwxgr5/2"
   ]
  },
  {
   "cell_type": "code",
   "execution_count": 6,
   "id": "28192638",
   "metadata": {},
   "outputs": [],
   "source": [
    "songs_lyrics = songs_lyrics.drop_duplicates(subset=[\"track_name\", \"artists\"])"
   ]
  },
  {
   "cell_type": "code",
   "execution_count": 7,
   "id": "5e9f5749",
   "metadata": {},
   "outputs": [
    {
     "data": {
      "text/html": [
       "<div>\n",
       "<style scoped>\n",
       "    .dataframe tbody tr th:only-of-type {\n",
       "        vertical-align: middle;\n",
       "    }\n",
       "\n",
       "    .dataframe tbody tr th {\n",
       "        vertical-align: top;\n",
       "    }\n",
       "\n",
       "    .dataframe thead th {\n",
       "        text-align: right;\n",
       "    }\n",
       "</style>\n",
       "<table border=\"1\" class=\"dataframe\">\n",
       "  <thead>\n",
       "    <tr style=\"text-align: right;\">\n",
       "      <th></th>\n",
       "      <th>Unnamed: 0</th>\n",
       "      <th>track_name</th>\n",
       "      <th>artists</th>\n",
       "      <th>lyrics</th>\n",
       "      <th>Song_id</th>\n",
       "      <th>url</th>\n",
       "      <th>release_date</th>\n",
       "      <th>track_genre</th>\n",
       "    </tr>\n",
       "  </thead>\n",
       "  <tbody>\n",
       "    <tr>\n",
       "      <th>0</th>\n",
       "      <td>0</td>\n",
       "      <td>To Begin Again</td>\n",
       "      <td>Ingrid Michaelson;ZAYN</td>\n",
       "      <td>TranslationsNorsk (bokmål / riksmål)EspañolBos...</td>\n",
       "      <td>6597928.0</td>\n",
       "      <td>https://genius.com/Ingrid-michaelson-and-zayn-...</td>\n",
       "      <td>March 17, 2021</td>\n",
       "      <td>acoustic</td>\n",
       "    </tr>\n",
       "    <tr>\n",
       "      <th>1</th>\n",
       "      <td>1</td>\n",
       "      <td>Can't Help Falling In Love</td>\n",
       "      <td>Kina Grannis</td>\n",
       "      <td>Can’t Help Falling in Love Lyrics[Verse 1]\\nWi...</td>\n",
       "      <td>3890906.0</td>\n",
       "      <td>https://genius.com/Kina-grannis-cant-help-fall...</td>\n",
       "      <td>January 13, 2017</td>\n",
       "      <td>acoustic</td>\n",
       "    </tr>\n",
       "    <tr>\n",
       "      <th>3</th>\n",
       "      <td>3</td>\n",
       "      <td>Hold On</td>\n",
       "      <td>Chord Overstreet</td>\n",
       "      <td>Hold On Lyrics[Verse 1]\\nLoving and fighting\\n...</td>\n",
       "      <td>2973448.0</td>\n",
       "      <td>https://genius.com/Chord-overstreet-hold-on-ly...</td>\n",
       "      <td>February 2, 2017</td>\n",
       "      <td>acoustic</td>\n",
       "    </tr>\n",
       "    <tr>\n",
       "      <th>5</th>\n",
       "      <td>5</td>\n",
       "      <td>Days I Will Remember</td>\n",
       "      <td>Tyrone Wells</td>\n",
       "      <td>Days I will Remember LyricsThese are the days ...</td>\n",
       "      <td>3805340.0</td>\n",
       "      <td>https://genius.com/Tyrone-wells-days-i-will-re...</td>\n",
       "      <td>April 20, 2018</td>\n",
       "      <td>acoustic</td>\n",
       "    </tr>\n",
       "    <tr>\n",
       "      <th>8</th>\n",
       "      <td>8</td>\n",
       "      <td>Say Something</td>\n",
       "      <td>A Great Big World;Christina Aguilera</td>\n",
       "      <td>TranslationsPortuguêsSay Something Lyrics[Intr...</td>\n",
       "      <td>255826.0</td>\n",
       "      <td>https://genius.com/A-great-big-world-say-somet...</td>\n",
       "      <td>November 4, 2013</td>\n",
       "      <td>acoustic</td>\n",
       "    </tr>\n",
       "    <tr>\n",
       "      <th>...</th>\n",
       "      <td>...</td>\n",
       "      <td>...</td>\n",
       "      <td>...</td>\n",
       "      <td>...</td>\n",
       "      <td>...</td>\n",
       "      <td>...</td>\n",
       "      <td>...</td>\n",
       "      <td>...</td>\n",
       "    </tr>\n",
       "    <tr>\n",
       "      <th>1275</th>\n",
       "      <td>1275</td>\n",
       "      <td>Fast Track</td>\n",
       "      <td>Days N Daze</td>\n",
       "      <td>Fast Track LyricsLet’s fast track\\nThrough the...</td>\n",
       "      <td>5336984.0</td>\n",
       "      <td>https://genius.com/Days-n-daze-fast-track-lyrics</td>\n",
       "      <td>May 1, 2020</td>\n",
       "      <td>acoustic</td>\n",
       "    </tr>\n",
       "    <tr>\n",
       "      <th>1276</th>\n",
       "      <td>1276</td>\n",
       "      <td>Maria</td>\n",
       "      <td>Harley Poe</td>\n",
       "      <td>Maria Lyrics[Verse 1]\\nSweet Jesus, please hel...</td>\n",
       "      <td>3660031.0</td>\n",
       "      <td>https://genius.com/Harley-poe-maria-lyrics</td>\n",
       "      <td>May 10, 2010</td>\n",
       "      <td>acoustic</td>\n",
       "    </tr>\n",
       "    <tr>\n",
       "      <th>1277</th>\n",
       "      <td>1277</td>\n",
       "      <td>Tall Cans</td>\n",
       "      <td>Pigeon Pit</td>\n",
       "      <td>Tall Cans LyricsI’m trying to stay awake ridin...</td>\n",
       "      <td>3618854.0</td>\n",
       "      <td>https://genius.com/Pigeon-pit-tall-cans-lyrics</td>\n",
       "      <td>April 26, 2017</td>\n",
       "      <td>acoustic</td>\n",
       "    </tr>\n",
       "    <tr>\n",
       "      <th>1278</th>\n",
       "      <td>1278</td>\n",
       "      <td>You Get What You Give</td>\n",
       "      <td>Chuck Ragan</td>\n",
       "      <td>You Get What You Give LyricsWell I shake when ...</td>\n",
       "      <td>1244669.0</td>\n",
       "      <td>https://genius.com/Chuck-ragan-you-get-what-yo...</td>\n",
       "      <td>September 13, 2011</td>\n",
       "      <td>acoustic</td>\n",
       "    </tr>\n",
       "    <tr>\n",
       "      <th>1279</th>\n",
       "      <td>1279</td>\n",
       "      <td>Four Simple Words</td>\n",
       "      <td>Frank Turner</td>\n",
       "      <td>Four Simple Words LyricsBecause we're all so v...</td>\n",
       "      <td>208741.0</td>\n",
       "      <td>https://genius.com/Frank-turner-four-simple-wo...</td>\n",
       "      <td>December 25, 2012</td>\n",
       "      <td>acoustic</td>\n",
       "    </tr>\n",
       "  </tbody>\n",
       "</table>\n",
       "<p>708 rows × 8 columns</p>\n",
       "</div>"
      ],
      "text/plain": [
       "      Unnamed: 0                  track_name  \\\n",
       "0              0              To Begin Again   \n",
       "1              1  Can't Help Falling In Love   \n",
       "3              3                     Hold On   \n",
       "5              5        Days I Will Remember   \n",
       "8              8               Say Something   \n",
       "...          ...                         ...   \n",
       "1275        1275                  Fast Track   \n",
       "1276        1276                       Maria   \n",
       "1277        1277                   Tall Cans   \n",
       "1278        1278       You Get What You Give   \n",
       "1279        1279           Four Simple Words   \n",
       "\n",
       "                                   artists  \\\n",
       "0                   Ingrid Michaelson;ZAYN   \n",
       "1                             Kina Grannis   \n",
       "3                         Chord Overstreet   \n",
       "5                             Tyrone Wells   \n",
       "8     A Great Big World;Christina Aguilera   \n",
       "...                                    ...   \n",
       "1275                           Days N Daze   \n",
       "1276                            Harley Poe   \n",
       "1277                            Pigeon Pit   \n",
       "1278                           Chuck Ragan   \n",
       "1279                          Frank Turner   \n",
       "\n",
       "                                                 lyrics    Song_id  \\\n",
       "0     TranslationsNorsk (bokmål / riksmål)EspañolBos...  6597928.0   \n",
       "1     Can’t Help Falling in Love Lyrics[Verse 1]\\nWi...  3890906.0   \n",
       "3     Hold On Lyrics[Verse 1]\\nLoving and fighting\\n...  2973448.0   \n",
       "5     Days I will Remember LyricsThese are the days ...  3805340.0   \n",
       "8     TranslationsPortuguêsSay Something Lyrics[Intr...   255826.0   \n",
       "...                                                 ...        ...   \n",
       "1275  Fast Track LyricsLet’s fast track\\nThrough the...  5336984.0   \n",
       "1276  Maria Lyrics[Verse 1]\\nSweet Jesus, please hel...  3660031.0   \n",
       "1277  Tall Cans LyricsI’m trying to stay awake ridin...  3618854.0   \n",
       "1278  You Get What You Give LyricsWell I shake when ...  1244669.0   \n",
       "1279  Four Simple Words LyricsBecause we're all so v...   208741.0   \n",
       "\n",
       "                                                    url        release_date  \\\n",
       "0     https://genius.com/Ingrid-michaelson-and-zayn-...      March 17, 2021   \n",
       "1     https://genius.com/Kina-grannis-cant-help-fall...    January 13, 2017   \n",
       "3     https://genius.com/Chord-overstreet-hold-on-ly...    February 2, 2017   \n",
       "5     https://genius.com/Tyrone-wells-days-i-will-re...      April 20, 2018   \n",
       "8     https://genius.com/A-great-big-world-say-somet...    November 4, 2013   \n",
       "...                                                 ...                 ...   \n",
       "1275   https://genius.com/Days-n-daze-fast-track-lyrics         May 1, 2020   \n",
       "1276         https://genius.com/Harley-poe-maria-lyrics        May 10, 2010   \n",
       "1277     https://genius.com/Pigeon-pit-tall-cans-lyrics      April 26, 2017   \n",
       "1278  https://genius.com/Chuck-ragan-you-get-what-yo...  September 13, 2011   \n",
       "1279  https://genius.com/Frank-turner-four-simple-wo...   December 25, 2012   \n",
       "\n",
       "     track_genre  \n",
       "0       acoustic  \n",
       "1       acoustic  \n",
       "3       acoustic  \n",
       "5       acoustic  \n",
       "8       acoustic  \n",
       "...          ...  \n",
       "1275    acoustic  \n",
       "1276    acoustic  \n",
       "1277    acoustic  \n",
       "1278    acoustic  \n",
       "1279    acoustic  \n",
       "\n",
       "[708 rows x 8 columns]"
      ]
     },
     "execution_count": 7,
     "metadata": {},
     "output_type": "execute_result"
    }
   ],
   "source": [
    "songs_lyrics[songs_lyrics.track_genre=='acoustic']"
   ]
  },
  {
   "cell_type": "code",
   "execution_count": 8,
   "id": "a7505207",
   "metadata": {},
   "outputs": [
    {
     "data": {
      "text/plain": [
       "\"Can’t Help Falling in Love Lyrics[Verse 1]\\nWise men say\\nOnly fools rush in\\nBut I can't help falling in love with you\\n\\n[Verse 2]\\nShall I stay?\\nWould it be a sin?\\nIf I can't help falling in love with you\\n\\n[Chorus]\\nLike a river flows\\nSurely to the sea\\nDarling, so it goes\\nSome things are meant to be\\n[Verse 3]\\nSo take my hand\\nTake my whole life, too\\nFor I can't help falling in love with you\\nFor I can't help falling in love with youYou might also like1Embed\""
      ]
     },
     "execution_count": 8,
     "metadata": {},
     "output_type": "execute_result"
    }
   ],
   "source": [
    "list(songs_lyrics.lyrics)[1]"
   ]
  },
  {
   "cell_type": "code",
   "execution_count": 9,
   "id": "3d75db28",
   "metadata": {},
   "outputs": [
    {
     "data": {
      "text/plain": [
       "35015"
      ]
     },
     "execution_count": 9,
     "metadata": {},
     "output_type": "execute_result"
    }
   ],
   "source": [
    "len(songs_lyrics)"
   ]
  },
  {
   "cell_type": "code",
   "execution_count": 10,
   "id": "1408cc45",
   "metadata": {},
   "outputs": [
    {
     "data": {
      "text/plain": [
       "array(['acoustic', 'afrobeat', 'alt-rock', 'alternative', 'ambient',\n",
       "       'anime', 'black-metal', 'bluegrass', 'blues', 'brazil',\n",
       "       'breakbeat', 'british', 'cantopop', 'chicago-house', 'children',\n",
       "       'chill', 'classical', 'club', 'comedy', 'country', 'dance',\n",
       "       'dancehall', 'death-metal', 'deep-house', 'detroit-techno',\n",
       "       'disco', 'disney', 'drum-and-bass', 'dub', 'dubstep', 'edm',\n",
       "       'electro', 'electronic', 'emo', 'folk', 'forro', 'french', 'funk',\n",
       "       'garage', 'german', 'gospel', 'goth', 'grindcore', 'groove',\n",
       "       'grunge', 'guitar', 'happy', 'hard-rock', 'hardcore', 'hardstyle',\n",
       "       'heavy-metal', 'hip-hop', 'honky-tonk', 'house', 'idm', 'indian',\n",
       "       'indie-pop', 'indie', 'industrial', 'iranian', 'j-dance', 'j-idol',\n",
       "       'j-pop', 'j-rock', 'jazz', 'k-pop', 'kids', 'latin', 'latino',\n",
       "       'malay', 'mandopop', 'metal', 'metalcore', 'minimal-techno', 'mpb',\n",
       "       'new-age', 'opera', 'pagode', 'party', 'piano', 'pop-film', 'pop',\n",
       "       'power-pop', 'progressive-house', 'psych-rock', 'punk-rock',\n",
       "       'punk', 'r-n-b', 'reggae', 'reggaeton', 'rock-n-roll', 'rock',\n",
       "       'rockabilly', 'romance', 'sad', 'salsa', 'samba', 'sertanejo',\n",
       "       'show-tunes', 'singer-songwriter', 'ska', 'sleep', 'soul',\n",
       "       'spanish', 'study', 'swedish', 'synth-pop', 'tango', 'techno',\n",
       "       'trance', 'trip-hop', 'turkish', 'world-music'], dtype=object)"
      ]
     },
     "execution_count": 10,
     "metadata": {},
     "output_type": "execute_result"
    }
   ],
   "source": [
    "songs_lyrics.track_genre.unique()"
   ]
  },
  {
   "cell_type": "code",
   "execution_count": 12,
   "id": "a8f5bfc1",
   "metadata": {},
   "outputs": [],
   "source": [
    "songs_trimmed = songs_lyrics[songs_lyrics.track_genre.isin(['alt-rock','alternative','country','edm','emo','funk','gospel','goth','grunge',\\\n",
    "                                                            'hard-rock','heavy-metal','hip-hop','indie','indie-pop','metal','party','pop',\\\n",
    "                                                            'punk-rock','punk','reggae','rock-n-roll','rock'])]\n",
    "\n",
    "\n"
   ]
  },
  {
   "cell_type": "code",
   "execution_count": 16,
   "id": "9654be7d",
   "metadata": {},
   "outputs": [],
   "source": [
    "songs_trimmed_nodups = songs_trimmed.drop_duplicates(subset=['track_name','artists'])"
   ]
  },
  {
   "cell_type": "code",
   "execution_count": 17,
   "id": "def7c180",
   "metadata": {},
   "outputs": [
    {
     "data": {
      "text/plain": [
       "grunge         686\n",
       "emo            545\n",
       "country        516\n",
       "goth           493\n",
       "alt-rock       472\n",
       "edm            404\n",
       "hard-rock      336\n",
       "indie-pop      316\n",
       "hip-hop        244\n",
       "alternative    204\n",
       "rock-n-roll    196\n",
       "metal          167\n",
       "punk-rock      162\n",
       "rock           148\n",
       "heavy-metal    138\n",
       "funk           133\n",
       "pop            128\n",
       "punk            78\n",
       "reggae          46\n",
       "indie           42\n",
       "party           40\n",
       "gospel          32\n",
       "Name: track_genre, dtype: int64"
      ]
     },
     "execution_count": 17,
     "metadata": {},
     "output_type": "execute_result"
    }
   ],
   "source": [
    "songs_trimmed.track_genre.value_counts()"
   ]
  },
  {
   "cell_type": "markdown",
   "id": "06f9f466",
   "metadata": {},
   "source": [
    "## Clean Huge Df"
   ]
  },
  {
   "cell_type": "code",
   "execution_count": 2,
   "id": "a3c4d382",
   "metadata": {},
   "outputs": [],
   "source": [
    "from google.cloud import storage\n",
    "import os\n",
    "import io\n",
    "client = storage.Client()\n",
    "bucket = client.get_bucket('nlp_final_data')"
   ]
  },
  {
   "cell_type": "code",
   "execution_count": 3,
   "id": "a726b1e6-52e9-42c4-b4d1-f67d523f0062",
   "metadata": {},
   "outputs": [
    {
     "name": "stdout",
     "output_type": "stream",
     "text": [
      "Available CPUs: 16\n"
     ]
    }
   ],
   "source": [
    "import multiprocessing\n",
    "\n",
    "num_processors = multiprocessing.cpu_count()\n",
    "print(f'Available CPUs: {num_processors}')\n",
    "\n",
    "workers = num_processors-1"
   ]
  },
  {
   "cell_type": "code",
   "execution_count": 4,
   "id": "3d4f0854-1de9-465d-9818-d77e1e0e84f2",
   "metadata": {},
   "outputs": [
    {
     "name": "stdout",
     "output_type": "stream",
     "text": [
      "INFO: Pandarallel will run on 15 workers.\n",
      "INFO: Pandarallel will use standard multiprocessing data transfer (pipe) to transfer data between the main process and workers.\n"
     ]
    }
   ],
   "source": [
    "#! pip install pandarallel\n",
    "import pandarallel\n",
    "from pandarallel import pandarallel\n",
    "pandarallel.initialize(nb_workers=num_processors-1, use_memory_fs=False)"
   ]
  },
  {
   "cell_type": "code",
   "execution_count": 5,
   "id": "7ae8a395-7b8d-4b63-af86-a02f9503b115",
   "metadata": {},
   "outputs": [],
   "source": [
    "\n",
    "blob = bucket.blob('song_lyrics.csv')\n",
    "content = blob.download_as_string()\n",
    "\n",
    "songs = pd.read_csv(io.BytesIO(content))"
   ]
  },
  {
   "cell_type": "code",
   "execution_count": 6,
   "id": "2013f271-4efb-4a26-95a0-e9519821b477",
   "metadata": {},
   "outputs": [
    {
     "data": {
      "text/plain": [
       "Index(['title', 'tag', 'artist', 'year', 'views', 'features', 'lyrics', 'id',\n",
       "       'language_cld3', 'language_ft', 'language'],\n",
       "      dtype='object')"
      ]
     },
     "execution_count": 6,
     "metadata": {},
     "output_type": "execute_result"
    }
   ],
   "source": [
    "songs.columns"
   ]
  },
  {
   "cell_type": "code",
   "execution_count": 7,
   "id": "06cf96a0-b4b1-4d64-82c2-2e6a0514551a",
   "metadata": {},
   "outputs": [
    {
     "data": {
      "image/png": "[encoded data removed]",
      "text/plain": [
       "<Figure size 640x480 with 1 Axes>"
      ]
     },
     "metadata": {},
     "output_type": "display_data"
    }
   ],
   "source": [
    "# Plot value counts as a bar plot\n",
    "songs['tag'].value_counts().plot(kind='bar')\n",
    "\n",
    "# Set plot title and axis labels\n",
    "plt.title('Value Counts of Genres')\n",
    "plt.xlabel('Genre')\n",
    "plt.ylabel('Count')\n",
    "\n",
    "# Display the plot\n",
    "plt.show()"
   ]
  },
  {
   "cell_type": "code",
   "execution_count": 8,
   "id": "116d037e-ba8e-4724-a54e-60278cdc9905",
   "metadata": {},
   "outputs": [
    {
     "data": {
      "text/plain": [
       "5134856"
      ]
     },
     "execution_count": 8,
     "metadata": {},
     "output_type": "execute_result"
    }
   ],
   "source": [
    "len(songs)"
   ]
  },
  {
   "cell_type": "markdown",
   "id": "a1bb7646-abd8-4a37-80c5-e88163e6a4cc",
   "metadata": {},
   "source": [
    "## Get rid of Duplicates"
   ]
  },
  {
   "cell_type": "code",
   "execution_count": 9,
   "id": "6a278c6a-2bbb-4430-b96e-b79fe516e164",
   "metadata": {},
   "outputs": [],
   "source": [
    "songs_new = songs.drop_duplicates(subset = ['title','artist'])"
   ]
  },
  {
   "cell_type": "code",
   "execution_count": 10,
   "id": "571c47f0-e952-46e6-8b20-0a8a9e12a29e",
   "metadata": {},
   "outputs": [
    {
     "data": {
      "text/plain": [
       "5134845"
      ]
     },
     "execution_count": 10,
     "metadata": {},
     "output_type": "execute_result"
    }
   ],
   "source": [
    "len(songs_new)"
   ]
  },
  {
   "cell_type": "markdown",
   "id": "359a5c31-1a49-4227-99fa-5c4d37210053",
   "metadata": {},
   "source": [
    "## Get Only English Songs"
   ]
  },
  {
   "cell_type": "code",
   "execution_count": 11,
   "id": "9cc2f459-3f23-4743-9190-d1cead732e4d",
   "metadata": {},
   "outputs": [],
   "source": [
    "songs_eng = songs_new[songs_new.language=='en']"
   ]
  },
  {
   "cell_type": "code",
   "execution_count": 12,
   "id": "548cca22-7dbe-427f-b97d-c5ccfc0c9bc8",
   "metadata": {},
   "outputs": [
    {
     "data": {
      "text/plain": [
       "3374188"
      ]
     },
     "execution_count": 12,
     "metadata": {},
     "output_type": "execute_result"
    }
   ],
   "source": [
    "len(songs_eng)"
   ]
  },
  {
   "cell_type": "markdown",
   "id": "984e850d-40d1-4c00-8832-1f2792244e34",
   "metadata": {},
   "source": [
    "## Get Rid of Misc Genre"
   ]
  },
  {
   "cell_type": "code",
   "execution_count": 13,
   "id": "2a17826b-e69e-4c90-945d-6a53922d5b71",
   "metadata": {},
   "outputs": [],
   "source": [
    "songs_noMIsc = songs_eng[songs_eng.tag!='misc']"
   ]
  },
  {
   "cell_type": "code",
   "execution_count": 14,
   "id": "aa9fc00b-b80f-4b56-afe9-cc72e44629d5",
   "metadata": {},
   "outputs": [
    {
     "data": {
      "text/plain": [
       "3233202"
      ]
     },
     "execution_count": 14,
     "metadata": {},
     "output_type": "execute_result"
    }
   ],
   "source": [
    "len(songs_noMIsc)"
   ]
  },
  {
   "cell_type": "markdown",
   "id": "e3d382b8-a6c0-4009-8ada-469ea5d51512",
   "metadata": {},
   "source": [
    "## Look at artists"
   ]
  },
  {
   "cell_type": "code",
   "execution_count": 29,
   "id": "9253e5ce-fc67-4aad-a7fa-70abde79dc0b",
   "metadata": {},
   "outputs": [
    {
     "data": {
      "text/plain": [
       "Genius English Translations    13591\n",
       "The Grateful Dead               2108\n",
       "Lil B                           1306\n",
       "Gucci Mane                      1239\n",
       "Frank Zappa                     1232\n",
       "Lil Wayne                       1208\n",
       "KIDZ BOP Kids                   1199\n",
       "Guided by Voices                1188\n",
       "Tendon Levey                    1183\n",
       "Juice WRLD                      1167\n",
       "Frank Sinatra                   1068\n",
       "Johnny Cash                     1041\n",
       "Muze Sikk                        967\n",
       "Madonna                          958\n",
       "Willie Nelson                    951\n",
       "Chief Keef                       924\n",
       "OCTOBERSFULLMOON                 922\n",
       "YOUNG DIAMOND                    896\n",
       "Bob Dylan                        881\n",
       "The Rolling Stones               855\n",
       "Name: artist, dtype: int64"
      ]
     },
     "execution_count": 29,
     "metadata": {},
     "output_type": "execute_result"
    }
   ],
   "source": [
    "songs_noMIsc.artist.value_counts()[:20]"
   ]
  },
  {
   "cell_type": "code",
   "execution_count": 33,
   "id": "59d3393a-983f-409c-bebf-96176786c57f",
   "metadata": {},
   "outputs": [
    {
     "data": {
      "image/png": "[encoded data removed]",
      "text/plain": [
       "<Figure size 640x480 with 1 Axes>"
      ]
     },
     "metadata": {},
     "output_type": "display_data"
    }
   ],
   "source": [
    "# Plot value counts as a bar plot\n",
    "songs_noMIsc.artist.value_counts()[:10].plot(kind='bar')\n",
    "\n",
    "# Set plot title and axis labels\n",
    "plt.title('Most Common Artists')\n",
    "plt.xlabel('Artist')\n",
    "plt.ylabel('Count')\n",
    "\n",
    "# Display the plot\n",
    "plt.show()"
   ]
  },
  {
   "cell_type": "code",
   "execution_count": 26,
   "id": "3443ba5f-00b6-48e0-9472-e4f6e7f90d04",
   "metadata": {},
   "outputs": [
    {
     "data": {
      "text/html": [
       "<div>\n",
       "<style scoped>\n",
       "    .dataframe tbody tr th:only-of-type {\n",
       "        vertical-align: middle;\n",
       "    }\n",
       "\n",
       "    .dataframe tbody tr th {\n",
       "        vertical-align: top;\n",
       "    }\n",
       "\n",
       "    .dataframe thead th {\n",
       "        text-align: right;\n",
       "    }\n",
       "</style>\n",
       "<table border=\"1\" class=\"dataframe\">\n",
       "  <thead>\n",
       "    <tr style=\"text-align: right;\">\n",
       "      <th></th>\n",
       "      <th>title</th>\n",
       "      <th>tag</th>\n",
       "      <th>artist</th>\n",
       "      <th>year</th>\n",
       "      <th>views</th>\n",
       "      <th>features</th>\n",
       "      <th>lyrics</th>\n",
       "      <th>id</th>\n",
       "      <th>language_cld3</th>\n",
       "      <th>language_ft</th>\n",
       "      <th>language</th>\n",
       "    </tr>\n",
       "  </thead>\n",
       "  <tbody>\n",
       "    <tr>\n",
       "      <th>28</th>\n",
       "      <td>Colors</td>\n",
       "      <td>rap</td>\n",
       "      <td>Gucci Mane</td>\n",
       "      <td>2008</td>\n",
       "      <td>34914</td>\n",
       "      <td>{}</td>\n",
       "      <td>[Verse 1]\\nBlue and white Charger\\nSame color ...</td>\n",
       "      <td>21</td>\n",
       "      <td>en</td>\n",
       "      <td>en</td>\n",
       "      <td>en</td>\n",
       "    </tr>\n",
       "    <tr>\n",
       "      <th>314</th>\n",
       "      <td>Lemonade</td>\n",
       "      <td>rap</td>\n",
       "      <td>Gucci Mane</td>\n",
       "      <td>2009</td>\n",
       "      <td>448340</td>\n",
       "      <td>{}</td>\n",
       "      <td>[Intro: Gucci Mane]\\nYeah, it's Gucci, what's ...</td>\n",
       "      <td>293</td>\n",
       "      <td>en</td>\n",
       "      <td>en</td>\n",
       "      <td>en</td>\n",
       "    </tr>\n",
       "    <tr>\n",
       "      <th>360</th>\n",
       "      <td>Bingo</td>\n",
       "      <td>rap</td>\n",
       "      <td>Gucci Mane</td>\n",
       "      <td>2010</td>\n",
       "      <td>16293</td>\n",
       "      <td>{\"Waka Flocka Flame\",\"Soulja Boy\"}</td>\n",
       "      <td>[Intro: Gucci Mane, Soulja Boy &amp; Waka Flocka F...</td>\n",
       "      <td>356</td>\n",
       "      <td>en</td>\n",
       "      <td>en</td>\n",
       "      <td>en</td>\n",
       "    </tr>\n",
       "    <tr>\n",
       "      <th>361</th>\n",
       "      <td>Volume</td>\n",
       "      <td>rap</td>\n",
       "      <td>Gucci Mane</td>\n",
       "      <td>2009</td>\n",
       "      <td>9414</td>\n",
       "      <td>{\"Wooh da Kid\"}</td>\n",
       "      <td>[Hook]\\nI'm so motherfuckin' turned up right n...</td>\n",
       "      <td>357</td>\n",
       "      <td>en</td>\n",
       "      <td>en</td>\n",
       "      <td>en</td>\n",
       "    </tr>\n",
       "    <tr>\n",
       "      <th>364</th>\n",
       "      <td>Gingerbread Man</td>\n",
       "      <td>rap</td>\n",
       "      <td>Gucci Mane</td>\n",
       "      <td>2009</td>\n",
       "      <td>7198</td>\n",
       "      <td>{\"OJ da Juiceman\"}</td>\n",
       "      <td>[Verse 1: Gucci Mane]\\nI'mma keep dropping ver...</td>\n",
       "      <td>360</td>\n",
       "      <td>en</td>\n",
       "      <td>en</td>\n",
       "      <td>en</td>\n",
       "    </tr>\n",
       "    <tr>\n",
       "      <th>...</th>\n",
       "      <td>...</td>\n",
       "      <td>...</td>\n",
       "      <td>...</td>\n",
       "      <td>...</td>\n",
       "      <td>...</td>\n",
       "      <td>...</td>\n",
       "      <td>...</td>\n",
       "      <td>...</td>\n",
       "      <td>...</td>\n",
       "      <td>...</td>\n",
       "      <td>...</td>\n",
       "    </tr>\n",
       "    <tr>\n",
       "      <th>4916544</th>\n",
       "      <td>Nose Red</td>\n",
       "      <td>rap</td>\n",
       "      <td>Gucci Mane</td>\n",
       "      <td>2021</td>\n",
       "      <td>650</td>\n",
       "      <td>{}</td>\n",
       "      <td>[Intro]\\nDamn (J. White, I need a beat I can g...</td>\n",
       "      <td>7498003</td>\n",
       "      <td>en</td>\n",
       "      <td>en</td>\n",
       "      <td>en</td>\n",
       "    </tr>\n",
       "    <tr>\n",
       "      <th>4950743</th>\n",
       "      <td>Fake Friends</td>\n",
       "      <td>rap</td>\n",
       "      <td>Gucci Mane</td>\n",
       "      <td>2022</td>\n",
       "      <td>1389</td>\n",
       "      <td>{}</td>\n",
       "      <td>[Intro]\\nYou know it's family first off top, a...</td>\n",
       "      <td>7555786</td>\n",
       "      <td>en</td>\n",
       "      <td>en</td>\n",
       "      <td>en</td>\n",
       "    </tr>\n",
       "    <tr>\n",
       "      <th>4994773</th>\n",
       "      <td>Rumors</td>\n",
       "      <td>rap</td>\n",
       "      <td>Gucci Mane</td>\n",
       "      <td>2022</td>\n",
       "      <td>81426</td>\n",
       "      <td>{\"Lil Durk\"}</td>\n",
       "      <td>[Intro]\\n(Tay Keith, fuck these niggas up)\\n(D...</td>\n",
       "      <td>7630490</td>\n",
       "      <td>en</td>\n",
       "      <td>en</td>\n",
       "      <td>en</td>\n",
       "    </tr>\n",
       "    <tr>\n",
       "      <th>5071280</th>\n",
       "      <td>Publicity Stunt</td>\n",
       "      <td>rap</td>\n",
       "      <td>Gucci Mane</td>\n",
       "      <td>2022</td>\n",
       "      <td>52077</td>\n",
       "      <td>{}</td>\n",
       "      <td>[Intro: Pooh Shiesty]\\n1017 (Blrrrd)\\n\\n[Choru...</td>\n",
       "      <td>7764006</td>\n",
       "      <td>en</td>\n",
       "      <td>en</td>\n",
       "      <td>en</td>\n",
       "    </tr>\n",
       "    <tr>\n",
       "      <th>5120579</th>\n",
       "      <td>Blood All On It</td>\n",
       "      <td>rap</td>\n",
       "      <td>Gucci Mane</td>\n",
       "      <td>2022</td>\n",
       "      <td>2590</td>\n",
       "      <td>{\"Young Dolph\",\"Key Glock\"}</td>\n",
       "      <td>[Intro: Young Dolph]\\n(Let the BandPlay)\\nYeah...</td>\n",
       "      <td>7854892</td>\n",
       "      <td>en</td>\n",
       "      <td>en</td>\n",
       "      <td>en</td>\n",
       "    </tr>\n",
       "  </tbody>\n",
       "</table>\n",
       "<p>1239 rows × 11 columns</p>\n",
       "</div>"
      ],
      "text/plain": [
       "                   title  tag      artist  year   views  \\\n",
       "28                Colors  rap  Gucci Mane  2008   34914   \n",
       "314             Lemonade  rap  Gucci Mane  2009  448340   \n",
       "360                Bingo  rap  Gucci Mane  2010   16293   \n",
       "361               Volume  rap  Gucci Mane  2009    9414   \n",
       "364      Gingerbread Man  rap  Gucci Mane  2009    7198   \n",
       "...                  ...  ...         ...   ...     ...   \n",
       "4916544         Nose Red  rap  Gucci Mane  2021     650   \n",
       "4950743     Fake Friends  rap  Gucci Mane  2022    1389   \n",
       "4994773           Rumors  rap  Gucci Mane  2022   81426   \n",
       "5071280  Publicity Stunt  rap  Gucci Mane  2022   52077   \n",
       "5120579  Blood All On It  rap  Gucci Mane  2022    2590   \n",
       "\n",
       "                                   features  \\\n",
       "28                                       {}   \n",
       "314                                      {}   \n",
       "360      {\"Waka Flocka Flame\",\"Soulja Boy\"}   \n",
       "361                         {\"Wooh da Kid\"}   \n",
       "364                      {\"OJ da Juiceman\"}   \n",
       "...                                     ...   \n",
       "4916544                                  {}   \n",
       "4950743                                  {}   \n",
       "4994773                        {\"Lil Durk\"}   \n",
       "5071280                                  {}   \n",
       "5120579         {\"Young Dolph\",\"Key Glock\"}   \n",
       "\n",
       "                                                    lyrics       id  \\\n",
       "28       [Verse 1]\\nBlue and white Charger\\nSame color ...       21   \n",
       "314      [Intro: Gucci Mane]\\nYeah, it's Gucci, what's ...      293   \n",
       "360      [Intro: Gucci Mane, Soulja Boy & Waka Flocka F...      356   \n",
       "361      [Hook]\\nI'm so motherfuckin' turned up right n...      357   \n",
       "364      [Verse 1: Gucci Mane]\\nI'mma keep dropping ver...      360   \n",
       "...                                                    ...      ...   \n",
       "4916544  [Intro]\\nDamn (J. White, I need a beat I can g...  7498003   \n",
       "4950743  [Intro]\\nYou know it's family first off top, a...  7555786   \n",
       "4994773  [Intro]\\n(Tay Keith, fuck these niggas up)\\n(D...  7630490   \n",
       "5071280  [Intro: Pooh Shiesty]\\n1017 (Blrrrd)\\n\\n[Choru...  7764006   \n",
       "5120579  [Intro: Young Dolph]\\n(Let the BandPlay)\\nYeah...  7854892   \n",
       "\n",
       "        language_cld3 language_ft language  \n",
       "28                 en          en       en  \n",
       "314                en          en       en  \n",
       "360                en          en       en  \n",
       "361                en          en       en  \n",
       "364                en          en       en  \n",
       "...               ...         ...      ...  \n",
       "4916544            en          en       en  \n",
       "4950743            en          en       en  \n",
       "4994773            en          en       en  \n",
       "5071280            en          en       en  \n",
       "5120579            en          en       en  \n",
       "\n",
       "[1239 rows x 11 columns]"
      ]
     },
     "execution_count": 26,
     "metadata": {},
     "output_type": "execute_result"
    }
   ],
   "source": [
    "songs_noMIsc[songs_noMIsc.artist=='Gucci Mane']"
   ]
  },
  {
   "cell_type": "markdown",
   "id": "39e37daa-6e2e-4a87-bd6c-3d72707ac87e",
   "metadata": {},
   "source": [
    "## Get rid of Kidz Bop Kids and Genius English Translations because they are not individual artists"
   ]
  },
  {
   "cell_type": "code",
   "execution_count": 30,
   "id": "b1366961-6654-4391-9f53-b775cbf5d33a",
   "metadata": {},
   "outputs": [],
   "source": [
    "songs_new = songs_noMIsc[songs_noMIsc.artist!='Genius English Translations']"
   ]
  },
  {
   "cell_type": "code",
   "execution_count": 31,
   "id": "e1c93b81-9e1d-4fb4-aa7f-ecdf579af43e",
   "metadata": {},
   "outputs": [],
   "source": [
    "songs_new = songs_new[songs_new.artist!='KIDZ BOP Kids ']"
   ]
  },
  {
   "cell_type": "markdown",
   "id": "95545874-924b-40a4-93da-ca88737491e8",
   "metadata": {},
   "source": [
    "## Also get rid of artists that appear less than 20 times, since they are likely not real artists and have 'joke' songs"
   ]
  },
  {
   "cell_type": "code",
   "execution_count": 40,
   "id": "86808ce2-55c4-48a2-bef4-b5b940f84c0d",
   "metadata": {},
   "outputs": [],
   "source": [
    "counts = songs_new['artist'].value_counts()"
   ]
  },
  {
   "cell_type": "code",
   "execution_count": 54,
   "id": "d0479e12-4237-47f9-b16f-e4b71ec95b07",
   "metadata": {},
   "outputs": [],
   "source": [
    "mask = songs_new['artist'].isin(counts[counts > 20].index)"
   ]
  },
  {
   "cell_type": "code",
   "execution_count": 55,
   "id": "843d46be-ecfc-441a-8124-b2bd8e45ec58",
   "metadata": {},
   "outputs": [],
   "source": [
    "songs_filtered = songs_new[mask]"
   ]
  },
  {
   "cell_type": "code",
   "execution_count": 56,
   "id": "d5d7a453-2516-4438-82e7-0daf102c9a90",
   "metadata": {},
   "outputs": [
    {
     "data": {
      "text/plain": [
       "HEARTBREAKHOTEL    21\n",
       "Anna Burch         21\n",
       "Zack Banton        21\n",
       "L Jitt             21\n",
       "Marvelous Liars    21\n",
       "Butch Dawson       21\n",
       "tiLLie             21\n",
       "P1LOT              21\n",
       "BlueBand TrE       21\n",
       "Ruggedman          21\n",
       "Name: artist, dtype: int64"
      ]
     },
     "execution_count": 56,
     "metadata": {},
     "output_type": "execute_result"
    }
   ],
   "source": [
    "songs_filtered.artist.value_counts()[-10:]"
   ]
  },
  {
   "cell_type": "markdown",
   "id": "6f0b42a3-63e0-42ad-b8af-1bbfc9a5b307",
   "metadata": {},
   "source": [
    "## Get rid of songs that are not listened to very often"
   ]
  },
  {
   "cell_type": "code",
   "execution_count": 66,
   "id": "cfb03564-af5e-4b62-8b19-da8c34e6ac44",
   "metadata": {},
   "outputs": [
    {
     "data": {
      "text/plain": [
       "count    1.909850e+06\n",
       "mean     5.342698e+03\n",
       "std      6.951701e+04\n",
       "min      0.000000e+00\n",
       "25%      4.200000e+01\n",
       "50%      1.840000e+02\n",
       "75%      8.590000e+02\n",
       "max      1.757563e+07\n",
       "Name: views, dtype: float64"
      ]
     },
     "execution_count": 66,
     "metadata": {},
     "output_type": "execute_result"
    }
   ],
   "source": [
    "songs_filtered.views.describe()"
   ]
  },
  {
   "cell_type": "code",
   "execution_count": 69,
   "id": "0f5eee02-0cea-463d-a6a6-e482cce0822c",
   "metadata": {},
   "outputs": [
    {
     "data": {
      "text/html": [
       "<div>\n",
       "<style scoped>\n",
       "    .dataframe tbody tr th:only-of-type {\n",
       "        vertical-align: middle;\n",
       "    }\n",
       "\n",
       "    .dataframe tbody tr th {\n",
       "        vertical-align: top;\n",
       "    }\n",
       "\n",
       "    .dataframe thead th {\n",
       "        text-align: right;\n",
       "    }\n",
       "</style>\n",
       "<table border=\"1\" class=\"dataframe\">\n",
       "  <thead>\n",
       "    <tr style=\"text-align: right;\">\n",
       "      <th></th>\n",
       "      <th>title</th>\n",
       "      <th>tag</th>\n",
       "      <th>artist</th>\n",
       "      <th>year</th>\n",
       "      <th>views</th>\n",
       "      <th>features</th>\n",
       "      <th>lyrics</th>\n",
       "      <th>id</th>\n",
       "      <th>language_cld3</th>\n",
       "      <th>language_ft</th>\n",
       "      <th>language</th>\n",
       "    </tr>\n",
       "  </thead>\n",
       "  <tbody>\n",
       "    <tr>\n",
       "      <th>16871</th>\n",
       "      <td>Dont Get it Curled</td>\n",
       "      <td>rap</td>\n",
       "      <td>Dom Pachino</td>\n",
       "      <td>2006</td>\n",
       "      <td>19</td>\n",
       "      <td>{}</td>\n",
       "      <td>[Intro: Dom Pachino]\\nYeah, take a walk with m...</td>\n",
       "      <td>17671</td>\n",
       "      <td>en</td>\n",
       "      <td>en</td>\n",
       "      <td>en</td>\n",
       "    </tr>\n",
       "    <tr>\n",
       "      <th>43293</th>\n",
       "      <td>Blunted Freestyle 4</td>\n",
       "      <td>rap</td>\n",
       "      <td>The Tongue</td>\n",
       "      <td>2011</td>\n",
       "      <td>9</td>\n",
       "      <td>{}</td>\n",
       "      <td>Bringing it back today like it was back in the...</td>\n",
       "      <td>45760</td>\n",
       "      <td>en</td>\n",
       "      <td>en</td>\n",
       "      <td>en</td>\n",
       "    </tr>\n",
       "    <tr>\n",
       "      <th>46794</th>\n",
       "      <td>The World Is Yours Remix</td>\n",
       "      <td>rap</td>\n",
       "      <td>Prezidential Candidates</td>\n",
       "      <td>2010</td>\n",
       "      <td>17</td>\n",
       "      <td>{}</td>\n",
       "      <td>[Verse 1: Prez]\\nAyo, catch me on the corner w...</td>\n",
       "      <td>49591</td>\n",
       "      <td>en</td>\n",
       "      <td>en</td>\n",
       "      <td>en</td>\n",
       "    </tr>\n",
       "    <tr>\n",
       "      <th>47285</th>\n",
       "      <td>Never Fall</td>\n",
       "      <td>rap</td>\n",
       "      <td>Prezidential Candidates</td>\n",
       "      <td>2011</td>\n",
       "      <td>16</td>\n",
       "      <td>{}</td>\n",
       "      <td>[Hook: Marka]\\n\\n[Verse 1: Nasty Boi]\\nSuccess...</td>\n",
       "      <td>49761</td>\n",
       "      <td>en</td>\n",
       "      <td>en</td>\n",
       "      <td>en</td>\n",
       "    </tr>\n",
       "    <tr>\n",
       "      <th>47294</th>\n",
       "      <td>What I Am</td>\n",
       "      <td>rap</td>\n",
       "      <td>Prezidential Candidates</td>\n",
       "      <td>2010</td>\n",
       "      <td>12</td>\n",
       "      <td>{}</td>\n",
       "      <td>[Hook: Nasty Boi]\\nI've been dealin' wit your ...</td>\n",
       "      <td>49769</td>\n",
       "      <td>en</td>\n",
       "      <td>en</td>\n",
       "      <td>en</td>\n",
       "    </tr>\n",
       "    <tr>\n",
       "      <th>...</th>\n",
       "      <td>...</td>\n",
       "      <td>...</td>\n",
       "      <td>...</td>\n",
       "      <td>...</td>\n",
       "      <td>...</td>\n",
       "      <td>...</td>\n",
       "      <td>...</td>\n",
       "      <td>...</td>\n",
       "      <td>...</td>\n",
       "      <td>...</td>\n",
       "      <td>...</td>\n",
       "    </tr>\n",
       "    <tr>\n",
       "      <th>5134828</th>\n",
       "      <td>Cut Corners</td>\n",
       "      <td>pop</td>\n",
       "      <td>Ryan Egan</td>\n",
       "      <td>2022</td>\n",
       "      <td>3</td>\n",
       "      <td>{}</td>\n",
       "      <td>Some people say I’ve been wrong\\nLost my head ...</td>\n",
       "      <td>7882812</td>\n",
       "      <td>en</td>\n",
       "      <td>en</td>\n",
       "      <td>en</td>\n",
       "    </tr>\n",
       "    <tr>\n",
       "      <th>5134835</th>\n",
       "      <td>Now Were Cookin</td>\n",
       "      <td>pop</td>\n",
       "      <td>Son Lux</td>\n",
       "      <td>2022</td>\n",
       "      <td>2</td>\n",
       "      <td>{\"Randy Newman\"}</td>\n",
       "      <td>It's really not that crazy (we're not that cra...</td>\n",
       "      <td>7882822</td>\n",
       "      <td>en</td>\n",
       "      <td>en</td>\n",
       "      <td>en</td>\n",
       "    </tr>\n",
       "    <tr>\n",
       "      <th>5134837</th>\n",
       "      <td>Dont Say You Never Loved Me</td>\n",
       "      <td>pop</td>\n",
       "      <td>Ryan Egan</td>\n",
       "      <td>2022</td>\n",
       "      <td>3</td>\n",
       "      <td>{}</td>\n",
       "      <td>Since I saw the message from you\\nI’m seeing g...</td>\n",
       "      <td>7882824</td>\n",
       "      <td>en</td>\n",
       "      <td>en</td>\n",
       "      <td>en</td>\n",
       "    </tr>\n",
       "    <tr>\n",
       "      <th>5134844</th>\n",
       "      <td>Baby Hold On</td>\n",
       "      <td>pop</td>\n",
       "      <td>Ryan Egan</td>\n",
       "      <td>2022</td>\n",
       "      <td>5</td>\n",
       "      <td>{}</td>\n",
       "      <td>At this crossroads\\nI don’t wanna go and gambl...</td>\n",
       "      <td>7882831</td>\n",
       "      <td>en</td>\n",
       "      <td>en</td>\n",
       "      <td>en</td>\n",
       "    </tr>\n",
       "    <tr>\n",
       "      <th>5134855</th>\n",
       "      <td>New Number</td>\n",
       "      <td>country</td>\n",
       "      <td>Alana Springsteen</td>\n",
       "      <td>2022</td>\n",
       "      <td>1</td>\n",
       "      <td>{}</td>\n",
       "      <td>[Verse 1]\\nYou need a new number, one that ain...</td>\n",
       "      <td>7882848</td>\n",
       "      <td>en</td>\n",
       "      <td>en</td>\n",
       "      <td>en</td>\n",
       "    </tr>\n",
       "  </tbody>\n",
       "</table>\n",
       "<p>271518 rows × 11 columns</p>\n",
       "</div>"
      ],
      "text/plain": [
       "                               title      tag                   artist  year  \\\n",
       "16871             Dont Get it Curled      rap              Dom Pachino  2006   \n",
       "43293            Blunted Freestyle 4      rap               The Tongue  2011   \n",
       "46794       The World Is Yours Remix      rap  Prezidential Candidates  2010   \n",
       "47285                     Never Fall      rap  Prezidential Candidates  2011   \n",
       "47294                      What I Am      rap  Prezidential Candidates  2010   \n",
       "...                              ...      ...                      ...   ...   \n",
       "5134828                  Cut Corners      pop                Ryan Egan  2022   \n",
       "5134835              Now Were Cookin      pop                  Son Lux  2022   \n",
       "5134837  Dont Say You Never Loved Me      pop                Ryan Egan  2022   \n",
       "5134844                 Baby Hold On      pop                Ryan Egan  2022   \n",
       "5134855                   New Number  country        Alana Springsteen  2022   \n",
       "\n",
       "         views          features  \\\n",
       "16871       19                {}   \n",
       "43293        9                {}   \n",
       "46794       17                {}   \n",
       "47285       16                {}   \n",
       "47294       12                {}   \n",
       "...        ...               ...   \n",
       "5134828      3                {}   \n",
       "5134835      2  {\"Randy Newman\"}   \n",
       "5134837      3                {}   \n",
       "5134844      5                {}   \n",
       "5134855      1                {}   \n",
       "\n",
       "                                                    lyrics       id  \\\n",
       "16871    [Intro: Dom Pachino]\\nYeah, take a walk with m...    17671   \n",
       "43293    Bringing it back today like it was back in the...    45760   \n",
       "46794    [Verse 1: Prez]\\nAyo, catch me on the corner w...    49591   \n",
       "47285    [Hook: Marka]\\n\\n[Verse 1: Nasty Boi]\\nSuccess...    49761   \n",
       "47294    [Hook: Nasty Boi]\\nI've been dealin' wit your ...    49769   \n",
       "...                                                    ...      ...   \n",
       "5134828  Some people say I’ve been wrong\\nLost my head ...  7882812   \n",
       "5134835  It's really not that crazy (we're not that cra...  7882822   \n",
       "5134837  Since I saw the message from you\\nI’m seeing g...  7882824   \n",
       "5134844  At this crossroads\\nI don’t wanna go and gambl...  7882831   \n",
       "5134855  [Verse 1]\\nYou need a new number, one that ain...  7882848   \n",
       "\n",
       "        language_cld3 language_ft language  \n",
       "16871              en          en       en  \n",
       "43293              en          en       en  \n",
       "46794              en          en       en  \n",
       "47285              en          en       en  \n",
       "47294              en          en       en  \n",
       "...               ...         ...      ...  \n",
       "5134828            en          en       en  \n",
       "5134835            en          en       en  \n",
       "5134837            en          en       en  \n",
       "5134844            en          en       en  \n",
       "5134855            en          en       en  \n",
       "\n",
       "[271518 rows x 11 columns]"
      ]
     },
     "execution_count": 69,
     "metadata": {},
     "output_type": "execute_result"
    }
   ],
   "source": [
    "songs_filtered[songs_filtered.views<20]"
   ]
  },
  {
   "cell_type": "code",
   "execution_count": 81,
   "id": "6df56e14-2109-435a-a9bd-660c96af7f37",
   "metadata": {},
   "outputs": [],
   "source": [
    "songs_filtered = songs_filtered[songs_filtered.views>42]"
   ]
  },
  {
   "cell_type": "markdown",
   "id": "5f4dcb6c-305d-4a2a-b0e6-e83675c17466",
   "metadata": {},
   "source": [
    "## Check the distribution of genres now that we have removed a lot of songs"
   ]
  },
  {
   "cell_type": "code",
   "execution_count": 82,
   "id": "337efe0c-9d51-47b7-a58b-5c99089f938f",
   "metadata": {},
   "outputs": [
    {
     "data": {
      "image/png": "[encoded data removed]",
      "text/plain": [
       "<Figure size 640x480 with 1 Axes>"
      ]
     },
     "metadata": {},
     "output_type": "display_data"
    }
   ],
   "source": [
    "# Plot value counts as a bar plot\n",
    "songs_filtered['tag'].value_counts().plot(kind='bar')\n",
    "\n",
    "# Set plot title and axis labels\n",
    "plt.title('Value Counts of Genres After Filtering')\n",
    "plt.xlabel('Genre')\n",
    "plt.ylabel('Count')\n",
    "\n",
    "# Display the plot\n",
    "plt.show()"
   ]
  },
  {
   "cell_type": "code",
   "execution_count": 83,
   "id": "e2a33179-215f-4f96-ad44-29441b04cea0",
   "metadata": {},
   "outputs": [
    {
     "data": {
      "text/plain": [
       "pop        671649\n",
       "rap        346573\n",
       "rock       302248\n",
       "rb          60218\n",
       "country     51332\n",
       "Name: tag, dtype: int64"
      ]
     },
     "execution_count": 83,
     "metadata": {},
     "output_type": "execute_result"
    }
   ],
   "source": [
    "songs_filtered['tag'].value_counts()"
   ]
  },
  {
   "cell_type": "markdown",
   "id": "791e653d-d74a-43eb-8633-3d2329ad44e7",
   "metadata": {},
   "source": [
    "## only use the top 50,000 most listened to songs for each genre"
   ]
  },
  {
   "cell_type": "code",
   "execution_count": 95,
   "id": "36224b1e-5bd3-47d6-a9d9-2ac5e76687f0",
   "metadata": {},
   "outputs": [],
   "source": [
    "songs_pop = songs_filtered[songs_filtered.tag=='pop'].sort_values(by=['views'],ascending=False)\n",
    "songs_rap = songs_filtered[songs_filtered.tag=='rap'].sort_values(by=['views'],ascending=False)\n",
    "songs_rock = songs_filtered[songs_filtered.tag=='rock'].sort_values(by=['views'],ascending=False)\n",
    "songs_rb = songs_filtered[songs_filtered.tag=='rb'].sort_values(by=['views'],ascending=False)\n",
    "songs_country = songs_filtered[songs_filtered.tag=='country'].sort_values(by=['views'],ascending=False)"
   ]
  },
  {
   "cell_type": "code",
   "execution_count": 96,
   "id": "857b0210-240e-492f-8b71-48cc2752350a",
   "metadata": {},
   "outputs": [],
   "source": [
    "top_songs = pd.concat([songs_pop.head(50000),songs_rap.head(50000),songs_rock.head(50000),songs_rb.head(50000),songs_country.head(50000)], axis=0)"
   ]
  },
  {
   "cell_type": "code",
   "execution_count": 97,
   "id": "0e2ef201-c182-4029-9ac0-86d0a2c9998e",
   "metadata": {},
   "outputs": [
    {
     "data": {
      "text/html": [
       "<div>\n",
       "<style scoped>\n",
       "    .dataframe tbody tr th:only-of-type {\n",
       "        vertical-align: middle;\n",
       "    }\n",
       "\n",
       "    .dataframe tbody tr th {\n",
       "        vertical-align: top;\n",
       "    }\n",
       "\n",
       "    .dataframe thead th {\n",
       "        text-align: right;\n",
       "    }\n",
       "</style>\n",
       "<table border=\"1\" class=\"dataframe\">\n",
       "  <thead>\n",
       "    <tr style=\"text-align: right;\">\n",
       "      <th></th>\n",
       "      <th>title</th>\n",
       "      <th>tag</th>\n",
       "      <th>artist</th>\n",
       "      <th>year</th>\n",
       "      <th>views</th>\n",
       "      <th>features</th>\n",
       "      <th>lyrics</th>\n",
       "      <th>id</th>\n",
       "      <th>language_cld3</th>\n",
       "      <th>language_ft</th>\n",
       "      <th>language</th>\n",
       "    </tr>\n",
       "  </thead>\n",
       "  <tbody>\n",
       "    <tr>\n",
       "      <th>1950930</th>\n",
       "      <td>Shape of You</td>\n",
       "      <td>pop</td>\n",
       "      <td>Ed Sheeran</td>\n",
       "      <td>2017</td>\n",
       "      <td>14569727</td>\n",
       "      <td>{}</td>\n",
       "      <td>[Verse 1]\\nThe club isn't the best place to fi...</td>\n",
       "      <td>2949128</td>\n",
       "      <td>en</td>\n",
       "      <td>en</td>\n",
       "      <td>en</td>\n",
       "    </tr>\n",
       "    <tr>\n",
       "      <th>2703693</th>\n",
       "      <td>​thank u next</td>\n",
       "      <td>pop</td>\n",
       "      <td>Ariana Grande</td>\n",
       "      <td>2018</td>\n",
       "      <td>9072131</td>\n",
       "      <td>{}</td>\n",
       "      <td>[Verse 1]\\nThought I'd end up with Sean\\nBut h...</td>\n",
       "      <td>4063065</td>\n",
       "      <td>en</td>\n",
       "      <td>en</td>\n",
       "      <td>en</td>\n",
       "    </tr>\n",
       "    <tr>\n",
       "      <th>1752512</th>\n",
       "      <td>Work</td>\n",
       "      <td>pop</td>\n",
       "      <td>Rihanna</td>\n",
       "      <td>2016</td>\n",
       "      <td>7871555</td>\n",
       "      <td>{Drake}</td>\n",
       "      <td>[Chorus: Rihanna]\\nWork, work, work, work, wor...</td>\n",
       "      <td>2398213</td>\n",
       "      <td>en</td>\n",
       "      <td>en</td>\n",
       "      <td>en</td>\n",
       "    </tr>\n",
       "    <tr>\n",
       "      <th>2153176</th>\n",
       "      <td>Too Good at Goodbyes</td>\n",
       "      <td>pop</td>\n",
       "      <td>Sam Smith</td>\n",
       "      <td>2017</td>\n",
       "      <td>7784454</td>\n",
       "      <td>{}</td>\n",
       "      <td>[Verse 1]\\nYou must think that I'm stupid\\nYou...</td>\n",
       "      <td>3219597</td>\n",
       "      <td>en</td>\n",
       "      <td>en</td>\n",
       "      <td>en</td>\n",
       "    </tr>\n",
       "    <tr>\n",
       "      <th>2706746</th>\n",
       "      <td>7 rings</td>\n",
       "      <td>pop</td>\n",
       "      <td>Ariana Grande</td>\n",
       "      <td>2019</td>\n",
       "      <td>7387794</td>\n",
       "      <td>{}</td>\n",
       "      <td>[Verse 1]\\nYeah, breakfast at Tiffany's and bo...</td>\n",
       "      <td>4067762</td>\n",
       "      <td>en</td>\n",
       "      <td>en</td>\n",
       "      <td>en</td>\n",
       "    </tr>\n",
       "    <tr>\n",
       "      <th>...</th>\n",
       "      <td>...</td>\n",
       "      <td>...</td>\n",
       "      <td>...</td>\n",
       "      <td>...</td>\n",
       "      <td>...</td>\n",
       "      <td>...</td>\n",
       "      <td>...</td>\n",
       "      <td>...</td>\n",
       "      <td>...</td>\n",
       "      <td>...</td>\n",
       "      <td>...</td>\n",
       "    </tr>\n",
       "    <tr>\n",
       "      <th>3614037</th>\n",
       "      <td>Georgia On My Mind</td>\n",
       "      <td>country</td>\n",
       "      <td>Tony Rice</td>\n",
       "      <td>1975</td>\n",
       "      <td>50</td>\n",
       "      <td>{}</td>\n",
       "      <td>Georgia, Georgia, the whole day through\\nAn' j...</td>\n",
       "      <td>5462856</td>\n",
       "      <td>en</td>\n",
       "      <td>en</td>\n",
       "      <td>en</td>\n",
       "    </tr>\n",
       "    <tr>\n",
       "      <th>1100406</th>\n",
       "      <td>Please Help Me I’m Falling</td>\n",
       "      <td>country</td>\n",
       "      <td>Wanda Jackson</td>\n",
       "      <td>1964</td>\n",
       "      <td>50</td>\n",
       "      <td>{}</td>\n",
       "      <td>Please help me, I'm falling in love with you\\n...</td>\n",
       "      <td>1431420</td>\n",
       "      <td>en</td>\n",
       "      <td>en</td>\n",
       "      <td>en</td>\n",
       "    </tr>\n",
       "    <tr>\n",
       "      <th>2392434</th>\n",
       "      <td>18 Reasons</td>\n",
       "      <td>country</td>\n",
       "      <td>Johnathan East Band</td>\n",
       "      <td>2010</td>\n",
       "      <td>50</td>\n",
       "      <td>{}</td>\n",
       "      <td>Struck out this morning flying down the 501\\nH...</td>\n",
       "      <td>3610692</td>\n",
       "      <td>en</td>\n",
       "      <td>en</td>\n",
       "      <td>en</td>\n",
       "    </tr>\n",
       "    <tr>\n",
       "      <th>384308</th>\n",
       "      <td>Standing Room Only</td>\n",
       "      <td>country</td>\n",
       "      <td>Kitty Wells</td>\n",
       "      <td>1956</td>\n",
       "      <td>50</td>\n",
       "      <td>{}</td>\n",
       "      <td>In your heart there's just standing room only\\...</td>\n",
       "      <td>586716</td>\n",
       "      <td>en</td>\n",
       "      <td>en</td>\n",
       "      <td>en</td>\n",
       "    </tr>\n",
       "    <tr>\n",
       "      <th>3623811</th>\n",
       "      <td>Champion</td>\n",
       "      <td>country</td>\n",
       "      <td>Nora Jane Struthers</td>\n",
       "      <td>2017</td>\n",
       "      <td>50</td>\n",
       "      <td>{}</td>\n",
       "      <td>There's a light on in your hallway\\nKettle's s...</td>\n",
       "      <td>5477315</td>\n",
       "      <td>en</td>\n",
       "      <td>en</td>\n",
       "      <td>en</td>\n",
       "    </tr>\n",
       "  </tbody>\n",
       "</table>\n",
       "<p>250000 rows × 11 columns</p>\n",
       "</div>"
      ],
      "text/plain": [
       "                              title      tag               artist  year  \\\n",
       "1950930                Shape of You      pop           Ed Sheeran  2017   \n",
       "2703693               ​thank u next      pop        Ariana Grande  2018   \n",
       "1752512                        Work      pop              Rihanna  2016   \n",
       "2153176        Too Good at Goodbyes      pop            Sam Smith  2017   \n",
       "2706746                     7 rings      pop        Ariana Grande  2019   \n",
       "...                             ...      ...                  ...   ...   \n",
       "3614037          Georgia On My Mind  country            Tony Rice  1975   \n",
       "1100406  Please Help Me I’m Falling  country        Wanda Jackson  1964   \n",
       "2392434                  18 Reasons  country  Johnathan East Band  2010   \n",
       "384308           Standing Room Only  country          Kitty Wells  1956   \n",
       "3623811                    Champion  country  Nora Jane Struthers  2017   \n",
       "\n",
       "            views features                                             lyrics  \\\n",
       "1950930  14569727       {}  [Verse 1]\\nThe club isn't the best place to fi...   \n",
       "2703693   9072131       {}  [Verse 1]\\nThought I'd end up with Sean\\nBut h...   \n",
       "1752512   7871555  {Drake}  [Chorus: Rihanna]\\nWork, work, work, work, wor...   \n",
       "2153176   7784454       {}  [Verse 1]\\nYou must think that I'm stupid\\nYou...   \n",
       "2706746   7387794       {}  [Verse 1]\\nYeah, breakfast at Tiffany's and bo...   \n",
       "...           ...      ...                                                ...   \n",
       "3614037        50       {}  Georgia, Georgia, the whole day through\\nAn' j...   \n",
       "1100406        50       {}  Please help me, I'm falling in love with you\\n...   \n",
       "2392434        50       {}  Struck out this morning flying down the 501\\nH...   \n",
       "384308         50       {}  In your heart there's just standing room only\\...   \n",
       "3623811        50       {}  There's a light on in your hallway\\nKettle's s...   \n",
       "\n",
       "              id language_cld3 language_ft language  \n",
       "1950930  2949128            en          en       en  \n",
       "2703693  4063065            en          en       en  \n",
       "1752512  2398213            en          en       en  \n",
       "2153176  3219597            en          en       en  \n",
       "2706746  4067762            en          en       en  \n",
       "...          ...           ...         ...      ...  \n",
       "3614037  5462856            en          en       en  \n",
       "1100406  1431420            en          en       en  \n",
       "2392434  3610692            en          en       en  \n",
       "384308    586716            en          en       en  \n",
       "3623811  5477315            en          en       en  \n",
       "\n",
       "[250000 rows x 11 columns]"
      ]
     },
     "execution_count": 97,
     "metadata": {},
     "output_type": "execute_result"
    }
   ],
   "source": [
    "top_songs"
   ]
  },
  {
   "cell_type": "code",
   "execution_count": 98,
   "id": "ae2b830e-5abd-492d-baf0-e6e51c6f839f",
   "metadata": {},
   "outputs": [],
   "source": [
    "top_songs.to_csv('top_songs.csv')"
   ]
  },
  {
   "cell_type": "markdown",
   "id": "28ce5024-f5c1-4bb7-9ac3-88370b7bc762",
   "metadata": {},
   "source": [
    "## Clean and Tokenize the text"
   ]
  },
  {
   "cell_type": "code",
   "execution_count": 100,
   "id": "314a37c4-9c75-470a-81a7-0686bffb91fc",
   "metadata": {},
   "outputs": [],
   "source": [
    "import re\n",
    "top_songs['lyrics_cleaned'] = top_songs['lyrics'].apply(lambda x: re.sub(r'\\[[^\\]]*\\]', '', x))\n",
    "top_songs['lyrics_cleaned'] = top_songs['lyrics_cleaned'].apply(lambda x: re.sub(r'\\n', ' ', x))"
   ]
  },
  {
   "cell_type": "code",
   "execution_count": 103,
   "id": "a42c6cf6-ce3a-48c2-937a-022a0fa9f7f3",
   "metadata": {},
   "outputs": [
    {
     "name": "stdout",
     "output_type": "stream",
     "text": [
      "CPU times: user 12.7 ms, sys: 162 µs, total: 12.8 ms\n",
      "Wall time: 11.8 ms\n"
     ]
    }
   ],
   "source": [
    "%%time\n",
    "\n",
    "def sent_to_words(sentences):\n",
    "    for sentence in sentences:\n",
    "        yield(gensim.utils.simple_preprocess(str(sentence), deacc=True))  # deacc=True removes punctuations\n",
    "        \n",
    "data_list = top_songs['lyrics_cleaned'].tolist()"
   ]
  },
  {
   "cell_type": "code",
   "execution_count": 106,
   "id": "b36be811-ac19-45c8-9c8f-6572fd4769be",
   "metadata": {},
   "outputs": [],
   "source": [
    "data_tokens = list(sent_to_words(data_list))"
   ]
  },
  {
   "cell_type": "code",
   "execution_count": 112,
   "id": "7bf05a4a-85c3-41ea-b970-328e4b190e13",
   "metadata": {},
   "outputs": [
    {
     "name": "stderr",
     "output_type": "stream",
     "text": [
      "2023-05-23 09:57:00.369790: W tensorflow/stream_executor/platform/default/dso_loader.cc:64] Could not load dynamic library 'libcuda.so.1'; dlerror: libcuda.so.1: cannot open shared object file: No such file or directory; LD_LIBRARY_PATH: /usr/local/cuda/lib64:/usr/local/nccl2/lib:/usr/local/cuda/extras/CUPTI/lib64\n",
      "2023-05-23 09:57:00.369845: W tensorflow/stream_executor/cuda/cuda_driver.cc:269] failed call to cuInit: UNKNOWN ERROR (303)\n",
      "2023-05-23 09:57:00.369875: I tensorflow/stream_executor/cuda/cuda_diagnostics.cc:156] kernel driver does not appear to be running on this host (nlpfinal): /proc/driver/nvidia/version does not exist\n"
     ]
    },
    {
     "name": "stdout",
     "output_type": "stream",
     "text": [
      "CPU times: user 6.5 s, sys: 784 ms, total: 7.28 s\n",
      "Wall time: 13 s\n"
     ]
    }
   ],
   "source": [
    "%%time\n",
    "import spacy\n",
    "\n",
    "stop_words = stopwords.words('english')\n",
    "\n",
    "# Define functions for stopwords, bigrams, trigrams and lemmatization\n",
    "def remove_stopwords(texts):\n",
    "    return [[word for word in simple_preprocess(str(doc)) if word not in stop_words] for doc in texts]\n",
    "\n",
    "# Initialize spacy 'en' model, keeping only tagger component (for efficiency)\n",
    "nlp = spacy.load(\"en_core_web_sm\", disable=['parser', 'ner'])\n",
    "\n",
    "def lemmatization(texts, allowed_postags=['NOUN', 'ADJ', 'VERB', 'ADV']):\n",
    "    \"\"\"https://spacy.io/api/annotation\"\"\"\n",
    "    texts_out = []\n",
    "    for sent in texts:\n",
    "        doc = nlp(\" \".join(sent)) \n",
    "        texts_out.append([token.lemma_ for token in doc if token.pos_ in allowed_postags])\n",
    "    return texts_out"
   ]
  },
  {
   "cell_type": "code",
   "execution_count": 109,
   "id": "68b0fff4-eb20-4604-8a0d-f41beabaed31",
   "metadata": {},
   "outputs": [],
   "source": [
    "# Remove Stop Words\n",
    "data_tokens_nostops = remove_stopwords(data_tokens)"
   ]
  },
  {
   "cell_type": "code",
   "execution_count": 113,
   "id": "4d8bbc73-c5c2-4458-a322-71d54a9fa386",
   "metadata": {},
   "outputs": [],
   "source": [
    "data_lemmatized = lemmatization(data_tokens_nostops, allowed_postags=['NOUN', 'ADJ', 'VERB', 'ADV'])"
   ]
  },
  {
   "cell_type": "code",
   "execution_count": 114,
   "id": "56899e58-51e6-4a56-96e7-a229abf4ebcd",
   "metadata": {},
   "outputs": [],
   "source": [
    "top_songs['data_tokenized'] = data_lemmatized"
   ]
  },
  {
   "cell_type": "code",
   "execution_count": 115,
   "id": "a286277c-a3ea-49c3-975b-232b5981a234",
   "metadata": {},
   "outputs": [],
   "source": [
    "top_songs.to_csv('top_songs_tokens.csv')"
   ]
  },
  {
   "cell_type": "markdown",
   "id": "e89d0c18-7478-4e95-8fd6-f61aceffbf63",
   "metadata": {},
   "source": [
    "## Check Song Lengths and get rid of songs that are too long or too short"
   ]
  },
  {
   "cell_type": "code",
   "execution_count": 126,
   "id": "44ee0332-327a-4722-ade0-60bed8964df2",
   "metadata": {},
   "outputs": [],
   "source": [
    "top_songs['num_tokens'] = top_songs['data_tokenized'].apply(lambda x: len(x))"
   ]
  },
  {
   "cell_type": "code",
   "execution_count": 127,
   "id": "a3861254-5d08-4131-a133-ef3be6178e44",
   "metadata": {},
   "outputs": [
    {
     "data": {
      "text/html": [
       "<div>\n",
       "<style scoped>\n",
       "    .dataframe tbody tr th:only-of-type {\n",
       "        vertical-align: middle;\n",
       "    }\n",
       "\n",
       "    .dataframe tbody tr th {\n",
       "        vertical-align: top;\n",
       "    }\n",
       "\n",
       "    .dataframe thead th {\n",
       "        text-align: right;\n",
       "    }\n",
       "</style>\n",
       "<table border=\"1\" class=\"dataframe\">\n",
       "  <thead>\n",
       "    <tr style=\"text-align: right;\">\n",
       "      <th></th>\n",
       "      <th>title</th>\n",
       "      <th>tag</th>\n",
       "      <th>artist</th>\n",
       "      <th>year</th>\n",
       "      <th>views</th>\n",
       "      <th>features</th>\n",
       "      <th>lyrics</th>\n",
       "      <th>id</th>\n",
       "      <th>language_cld3</th>\n",
       "      <th>language_ft</th>\n",
       "      <th>language</th>\n",
       "      <th>lyrics_cleaned</th>\n",
       "      <th>data_tokenized</th>\n",
       "      <th>num_tokens</th>\n",
       "    </tr>\n",
       "  </thead>\n",
       "  <tbody>\n",
       "    <tr>\n",
       "      <th>1650075</th>\n",
       "      <td>Nangs</td>\n",
       "      <td>rock</td>\n",
       "      <td>Tame Impala</td>\n",
       "      <td>2015</td>\n",
       "      <td>123859</td>\n",
       "      <td>{}</td>\n",
       "      <td>[Interlude]\\nBut is there something more than that?\\nBut is there something more than that?\\nBut is there something more than that?\\nBut is there something more than that?\\nBut is there something more than that?\\nBut is there something more than that?\\nBut is there something more than that?\\nBut is there something more than that?\\nBut is there something more than that?\\nBut is there something more than that?\\nBut is there something more than that?\\nBut is there something more than that?\\nBut...</td>\n",
       "      <td>2165812</td>\n",
       "      <td>en</td>\n",
       "      <td>en</td>\n",
       "      <td>en</td>\n",
       "      <td>But is there something more than that? But is there something more than that? But is there something more than that? But is there something more than that? But is there something more than that? But is there something more than that? But is there something more than that? But is there something more than that? But is there something more than that? But is there something more than that? But is there something more than that? But is there something more than that? But is there something more...</td>\n",
       "      <td>[]</td>\n",
       "      <td>0</td>\n",
       "    </tr>\n",
       "    <tr>\n",
       "      <th>216670</th>\n",
       "      <td>Over</td>\n",
       "      <td>rock</td>\n",
       "      <td>A Perfect Circle</td>\n",
       "      <td>2000</td>\n",
       "      <td>5552</td>\n",
       "      <td>{}</td>\n",
       "      <td>Been over\\nBeen over this before\\nBeen over and over\\nBeen over this before\\n\\nAnd over\\nBeen over this before\\n\\nSo over this\\nBeen over this\\nSo over this\\nBeen over this\\nOver this before</td>\n",
       "      <td>253848</td>\n",
       "      <td>en</td>\n",
       "      <td>en</td>\n",
       "      <td>en</td>\n",
       "      <td>Been over Been over this before Been over and over Been over this before  And over Been over this before  So over this Been over this So over this Been over this Over this before</td>\n",
       "      <td>[]</td>\n",
       "      <td>0</td>\n",
       "    </tr>\n",
       "    <tr>\n",
       "      <th>2297077</th>\n",
       "      <td>​xx</td>\n",
       "      <td>pop</td>\n",
       "      <td>Hayley Kiyoko</td>\n",
       "      <td>2018</td>\n",
       "      <td>17636</td>\n",
       "      <td>{}</td>\n",
       "      <td>[Intro]\\nYeah, yeah\\nYeah, yeah\\nWhy'd you do that?\\nYeah, yeah\\nYeah, yeah\\nWhy'd you do that?\\nYeah, yeah\\nYeah, yeah\\nWhy'd you do that?\\nYeah, yeah\\nYeah, yeah\\nWhy'd you do that?\\nYeah, yeah\\nYeah, yeah\\nYeah, yeah\\nYeah, yeah\\nWhy'd you do that?</td>\n",
       "      <td>3444425</td>\n",
       "      <td>en</td>\n",
       "      <td>en</td>\n",
       "      <td>en</td>\n",
       "      <td>Yeah, yeah Yeah, yeah Why'd you do that? Yeah, yeah Yeah, yeah Why'd you do that? Yeah, yeah Yeah, yeah Why'd you do that? Yeah, yeah Yeah, yeah Why'd you do that? Yeah, yeah Yeah, yeah Yeah, yeah Yeah, yeah Why'd you do that?</td>\n",
       "      <td>[]</td>\n",
       "      <td>0</td>\n",
       "    </tr>\n",
       "    <tr>\n",
       "      <th>2199622</th>\n",
       "      <td>Backwater</td>\n",
       "      <td>rb</td>\n",
       "      <td>Kllo</td>\n",
       "      <td>2017</td>\n",
       "      <td>911</td>\n",
       "      <td>{}</td>\n",
       "      <td>No, I don't, everything's over now\\nNo, I don't, everything's over now\\nNo, I don't, everything's over now\\nNo, I don't, everything's over now\\nNo, I don't, everything's over now\\nNo, I don't, everything's over now\\nNo, I don't, everything's over now\\nNo, I don't, everything's over now\\nNo, I don't, everything's over now\\nNo, I don't, everything's over now\\nNo, I don't, everything's over now\\nNo, I don't, everything's over now\\nNo, I don't, everything's over now</td>\n",
       "      <td>3281892</td>\n",
       "      <td>en</td>\n",
       "      <td>en</td>\n",
       "      <td>en</td>\n",
       "      <td>No, I don't, everything's over now No, I don't, everything's over now No, I don't, everything's over now No, I don't, everything's over now No, I don't, everything's over now No, I don't, everything's over now No, I don't, everything's over now No, I don't, everything's over now No, I don't, everything's over now No, I don't, everything's over now No, I don't, everything's over now No, I don't, everything's over now No, I don't, everything's over now</td>\n",
       "      <td>[]</td>\n",
       "      <td>0</td>\n",
       "    </tr>\n",
       "    <tr>\n",
       "      <th>469192</th>\n",
       "      <td>Marvin Interlude</td>\n",
       "      <td>rb</td>\n",
       "      <td>Mary J. Blige</td>\n",
       "      <td>1994</td>\n",
       "      <td>1020</td>\n",
       "      <td>{}</td>\n",
       "      <td>[Verse]\\nOh, oh, you know that I\\nYou know that I want to be with you, with you\\nI just wanna be with you\\nOh, oh, ooh, oh, oh, oh, oh, oh, oh, oh</td>\n",
       "      <td>765778</td>\n",
       "      <td>en</td>\n",
       "      <td>en</td>\n",
       "      <td>en</td>\n",
       "      <td>Oh, oh, you know that I You know that I want to be with you, with you I just wanna be with you Oh, oh, ooh, oh, oh, oh, oh, oh, oh, oh</td>\n",
       "      <td>[want]</td>\n",
       "      <td>1</td>\n",
       "    </tr>\n",
       "    <tr>\n",
       "      <th>...</th>\n",
       "      <td>...</td>\n",
       "      <td>...</td>\n",
       "      <td>...</td>\n",
       "      <td>...</td>\n",
       "      <td>...</td>\n",
       "      <td>...</td>\n",
       "      <td>...</td>\n",
       "      <td>...</td>\n",
       "      <td>...</td>\n",
       "      <td>...</td>\n",
       "      <td>...</td>\n",
       "      <td>...</td>\n",
       "      <td>...</td>\n",
       "      <td>...</td>\n",
       "    </tr>\n",
       "    <tr>\n",
       "      <th>4555690</th>\n",
       "      <td>Rolling 110 Deep</td>\n",
       "      <td>rap</td>\n",
       "      <td>DJ Kay Slay</td>\n",
       "      <td>2021</td>\n",
       "      <td>53438</td>\n",
       "      <td>{\"Ghostface Killah\",Twista,\"Styles P\",Raekwon,\"Jim Jones\",AZ,\"Black Thought\",\"Sauce Money\",\"Big Daddy Kane\",Redman,Cassidy,\"Sheek Louch\",\"Joell Ortiz\",\"Bun B\",\"J.R. Writer\",Consequence,\"Cory Gunz\",\"MC Shan\",\"Young Buck\",\"KXNG Crooked\",\"Uncle Murda\",\"Inspectah Deck\",McGruff,\"Loaded Lux\",Saigon,Locksmith,Vado,\"Stan Spit\",\"Kool G Rap\",\"MC Serch\",\"Sticky Fingaz\",\"Trae tha Truth\",\"Trick Trick\",Ice-T,KRS-One,Papoose,Maino,\"Ras Kass\",Havoc,\"Rah Digga\",Ransom,\"Chuck D\",\"Roy Jones Jr.\",\"Shaquille O\\\\...</td>\n",
       "      <td>[Intro: DJ Kay Slay &amp; Sheek Louch]\\nTrackateering Music\\nMan, y'all did it with this one here, y'all\\nPeople love to use that quote, \"I'm doin' it for the culture\"\\nBut what culture is that that you're talking about?\\nThe one that you claim as a hip-hop artist\\nBut won't do the research on hip-hop history\\nOr the one where you disrespect, disconnect\\nAnd disregard the founding fathers?\\nBut you know what? Whatever it is, it don't even matter\\n'Cause as long as I'm alive\\nI'ma show and prove ...</td>\n",
       "      <td>6917758</td>\n",
       "      <td>en</td>\n",
       "      <td>en</td>\n",
       "      <td>en</td>\n",
       "      <td>Trackateering Music Man, y'all did it with this one here, y'all People love to use that quote, \"I'm doin' it for the culture\" But what culture is that that you're talking about? The one that you claim as a hip-hop artist But won't do the research on hip-hop history Or the one where you disrespect, disconnect And disregard the founding fathers? But you know what? Whatever it is, it don't even matter 'Cause as long as I'm alive I'ma show and prove where this culture came from And what it's re...</td>\n",
       "      <td>[trackateere, music, man, people, love, use, doin, culture, culture, talk, claim, hip, hop, artist, hip, hop, history, disrespect, disconnect, disregard, founding, father, know, even, matter, cause, long, alive, show, prove, culture, come, really, get, nigga, shootin, fuck, peace, silverback, new, huey, feel, stare, new, judge, hand, cop, niggas, block, talk, lil, act, man, somethin, niggas, track, know, tell, get, gun, old, new, call, king, status, go, fuck, around, get, burn, bar, jail, ni...</td>\n",
       "      <td>3620</td>\n",
       "    </tr>\n",
       "    <tr>\n",
       "      <th>49589</th>\n",
       "      <td>Poet Laureate Infinity</td>\n",
       "      <td>rap</td>\n",
       "      <td>Canibus</td>\n",
       "      <td>2007</td>\n",
       "      <td>73992</td>\n",
       "      <td>{}</td>\n",
       "      <td>[Vocal Layer 1: Canibus]\\nI got bored with 4 beats to the measure\\nProfessor speech compressor terminated his tenure to explore more rewarding adventure\\nTake a closer look at the bars\\nYou'll see I'm not behind them or in front of them, I'm one of them\\nStarted with a 100, the Game spit 3, I said, \"Fuck it\\nI'ma have to show these niggas something\"\\nToo easy, who'd believe me if I said that it wasn't?\\nThe rhyme is a weapon, I bust it, the Brotherhood got me covered\\nOP orders with coordina...</td>\n",
       "      <td>52375</td>\n",
       "      <td>en</td>\n",
       "      <td>en</td>\n",
       "      <td>en</td>\n",
       "      <td>I got bored with 4 beats to the measure Professor speech compressor terminated his tenure to explore more rewarding adventure Take a closer look at the bars You'll see I'm not behind them or in front of them, I'm one of them Started with a 100, the Game spit 3, I said, \"Fuck it I'ma have to show these niggas something\" Too easy, who'd believe me if I said that it wasn't? The rhyme is a weapon, I bust it, the Brotherhood got me covered OP orders with coordinates where to drop mortars I drive...</td>\n",
       "      <td>[get, bore, beat, measure, professor, speech, compressor, terminate, tenure, explore, rewarding, adventure, take, close, look, bar, see, front, start, game, spit, say, fuck, show, easy, believe, say, get, cover, op, order, coordinate, drop, mortar, drive, forward, sandstorm, make, eye, water, phone, screen, call, place, far, away, rhyme, raw, deeply, crawl, walk, think, thought, talk, spit, sport, lose, pay, nail, corpse, cross, great, time, supposedly, bar, probably, always, mentally, top, ...</td>\n",
       "      <td>4308</td>\n",
       "    </tr>\n",
       "    <tr>\n",
       "      <th>2530369</th>\n",
       "      <td>Tim Westwood Freestyle</td>\n",
       "      <td>rap</td>\n",
       "      <td>Juice WRLD</td>\n",
       "      <td>2018</td>\n",
       "      <td>298237</td>\n",
       "      <td>{}</td>\n",
       "      <td>[Intro]\\nYeah, uh, uh\\nUh-huh, huh, hahaha\\nSome of y'all be sayin' y'all freestylin'\\nBut y'all be like... spittin' writtens and shit\\nHaha, that's BS\\nUh, uh-huh, uh, uh-huh, uh, uh-huh\\nUh, I don't even write my wrongs, haha\\nAyy, yuh\\n\\n[Part 1: Waves by Joey Bada$$]\\n\\n[Verse 1]\\nOff the top, kickin' it, no karate class\\nJanitor, I'll mop his ass up, chop his ass up\\nI'm the best at what I do, can't nobody do it better\\nYour girl a sprinkler system from the way I get her wetter\\nUh, I'm...</td>\n",
       "      <td>3812108</td>\n",
       "      <td>en</td>\n",
       "      <td>en</td>\n",
       "      <td>en</td>\n",
       "      <td>Yeah, uh, uh Uh-huh, huh, hahaha Some of y'all be sayin' y'all freestylin' But y'all be like... spittin' writtens and shit Haha, that's BS Uh, uh-huh, uh, uh-huh, uh, uh-huh Uh, I don't even write my wrongs, haha Ayy, yuh     Off the top, kickin' it, no karate class Janitor, I'll mop his ass up, chop his ass up I'm the best at what I do, can't nobody do it better Your girl a sprinkler system from the way I get her wetter Uh, I'm out the jam like jelly I'ma go hard, catch a shot like Belly I...</td>\n",
       "      <td>[spittin, written, shit, even, write, wrong, class, janitor, mop, ass, good, well, girl, sprinkler, system, way, get, wetter, jam, go, hard, catch, shoot, belly, well, ever, body, fluid, feel, flocka, let, music, dome, kinda, get, impediment, spittin, rippin, written, writin, damn, thing, doin, damn, thing, rap, sing, ring, bell, king, well, king, marry, money, fuck, need, buy, ring, pull, scene, get, ring, joke, get, zinge, man, shit, look, easy, grind, trukfit, lil, weezy, bitch, sleazy, b...</td>\n",
       "      <td>4504</td>\n",
       "    </tr>\n",
       "    <tr>\n",
       "      <th>2414998</th>\n",
       "      <td>Who Run It/Bring It Back/Look Alive Megamix</td>\n",
       "      <td>rap</td>\n",
       "      <td>Finny Music</td>\n",
       "      <td>2018</td>\n",
       "      <td>245990</td>\n",
       "      <td>{}</td>\n",
       "      <td>[Part I: Three 6 Mafia - Who Run It (Megamix)]\\n[Intro 1: Producer Tag]\\nFinny Music\\n\\n[Intro 2: DJ Paul]\\nWho run it\\nWho run it, who run it\\nWho run it, who run it\\nWho run it, who run it\\nWho run it, who run it\\nWho run it, who run it\\nWho run it, who run it\\nWho run it, who run it\\n\\n[Chorus: DJ Paul]\\nThese bitches ain't runnin' (runnin'!), shit but y'all mouth\\nCause the first hater step, the first hater get tossed out\\nThese bitches ain't runnin' (runnin'!), shit but y'all mouth\\nCau...</td>\n",
       "      <td>3644860</td>\n",
       "      <td>en</td>\n",
       "      <td>en</td>\n",
       "      <td>en</td>\n",
       "      <td>Finny Music   Who run it Who run it, who run it Who run it, who run it Who run it, who run it Who run it, who run it Who run it, who run it Who run it, who run it Who run it, who run it   These bitches ain't runnin' (runnin'!), shit but y'all mouth Cause the first hater step, the first hater get tossed out These bitches ain't runnin' (runnin'!), shit but y'all mouth Cause the first hater step, the first hater get tossed out These bitches ain't runnin' (runnin'!), shit but y'all mouth Cause...</td>\n",
       "      <td>[finny, music, run, run, run, run, run, run, run, run, run, run, run, run, run, run, run, bitch, cause, first, hater, step, first, hater, get, toss, bitch, cause, first, hater, step, first, hater, get, toss, bitch, cause, first, hater, step, first, hater, get, toss, bitch, cause, first, step, first, toss, get, plenty, anna, get, plenty, gun, bustin, luxury, car, still, get, hoe, run, hearin, plenty, mean, word, action, boot, straight, meet, middle, ring, pop, chest, plastic, glock, pop, jaw,...</td>\n",
       "      <td>5378</td>\n",
       "    </tr>\n",
       "    <tr>\n",
       "      <th>3667586</th>\n",
       "      <td>COVID Relief Freestyle</td>\n",
       "      <td>rap</td>\n",
       "      <td>Watsky</td>\n",
       "      <td>2020</td>\n",
       "      <td>9539</td>\n",
       "      <td>{}</td>\n",
       "      <td>[00:00:00]\\nOh shit, I guess we're starting\\nThe mic is where my heart is\\nI know what my part is\\nI hear my own voice\\nI make my own choice\\nI guess, we're fuckin' doing it\\nThe horse is out the gates\\nIt's time to start the race\\nShoutout to Kathy Bates and also Betty White\\nAll the people, if you're the type\\nI wanna say that you're equal on the mic\\nBut nobody's equal to me\\nNobody is coming for my neck\\nI am looking for respect\\nI'm not looking for a check\\nUnless it is for my friends\\n...</td>\n",
       "      <td>5541941</td>\n",
       "      <td>en</td>\n",
       "      <td>en</td>\n",
       "      <td>en</td>\n",
       "      <td>Oh shit, I guess we're starting The mic is where my heart is I know what my part is I hear my own voice I make my own choice I guess, we're fuckin' doing it The horse is out the gates It's time to start the race Shoutout to Kathy Bates and also Betty White All the people, if you're the type I wanna say that you're equal on the mic But nobody's equal to me Nobody is coming for my neck I am looking for respect I'm not looking for a check Unless it is for my friends That's why we're doing this...</td>\n",
       "      <td>[shit, guess, start, mic, heart, know, part, hear, voice, make, choice, guess, time, start, race, shoutout, kathy, bate, also, betty, white, say, equal, mic, equal, come, neck, look, respect, look, check, friend, make, penny, maybe, make, amend, sailor, sea, get, bend, go, ocean, rock, motion, sip, potion, share, emotion, dare, fuck, sea, deep, water, vent, get, bend, bent, think, meant, crew, gigantic, look, sea, titanic, shit, mean, find, already, abound, treasure, man, give, pleasure, kno...</td>\n",
       "      <td>6438</td>\n",
       "    </tr>\n",
       "  </tbody>\n",
       "</table>\n",
       "<p>250000 rows × 14 columns</p>\n",
       "</div>"
      ],
      "text/plain": [
       "                                               title   tag            artist  \\\n",
       "1650075                                        Nangs  rock       Tame Impala   \n",
       "216670                                          Over  rock  A Perfect Circle   \n",
       "2297077                                          ​xx   pop     Hayley Kiyoko   \n",
       "2199622                                    Backwater    rb              Kllo   \n",
       "469192                              Marvin Interlude    rb     Mary J. Blige   \n",
       "...                                              ...   ...               ...   \n",
       "4555690                             Rolling 110 Deep   rap       DJ Kay Slay   \n",
       "49589                         Poet Laureate Infinity   rap           Canibus   \n",
       "2530369                       Tim Westwood Freestyle   rap        Juice WRLD   \n",
       "2414998  Who Run It/Bring It Back/Look Alive Megamix   rap       Finny Music   \n",
       "3667586                       COVID Relief Freestyle   rap            Watsky   \n",
       "\n",
       "         year   views  \\\n",
       "1650075  2015  123859   \n",
       "216670   2000    5552   \n",
       "2297077  2018   17636   \n",
       "2199622  2017     911   \n",
       "469192   1994    1020   \n",
       "...       ...     ...   \n",
       "4555690  2021   53438   \n",
       "49589    2007   73992   \n",
       "2530369  2018  298237   \n",
       "2414998  2018  245990   \n",
       "3667586  2020    9539   \n",
       "\n",
       "                                                                                                                                                                                                                                                                                                                                                                                                                                                                                                                    features  \\\n",
       "1650075                                                                                                                                                                                                                                                                                                                                                                                                                                                                                                                   {}   \n",
       "216670                                                                                                                                                                                                                                                                                                                                                                                                                                                                                                                    {}   \n",
       "2297077                                                                                                                                                                                                                                                                                                                                                                                                                                                                                                                   {}   \n",
       "2199622                                                                                                                                                                                                                                                                                                                                                                                                                                                                                                                   {}   \n",
       "469192                                                                                                                                                                                                                                                                                                                                                                                                                                                                                                                    {}   \n",
       "...                                                                                                                                                                                                                                                                                                                                                                                                                                                                                                                      ...   \n",
       "4555690  {\"Ghostface Killah\",Twista,\"Styles P\",Raekwon,\"Jim Jones\",AZ,\"Black Thought\",\"Sauce Money\",\"Big Daddy Kane\",Redman,Cassidy,\"Sheek Louch\",\"Joell Ortiz\",\"Bun B\",\"J.R. Writer\",Consequence,\"Cory Gunz\",\"MC Shan\",\"Young Buck\",\"KXNG Crooked\",\"Uncle Murda\",\"Inspectah Deck\",McGruff,\"Loaded Lux\",Saigon,Locksmith,Vado,\"Stan Spit\",\"Kool G Rap\",\"MC Serch\",\"Sticky Fingaz\",\"Trae tha Truth\",\"Trick Trick\",Ice-T,KRS-One,Papoose,Maino,\"Ras Kass\",Havoc,\"Rah Digga\",Ransom,\"Chuck D\",\"Roy Jones Jr.\",\"Shaquille O\\\\...   \n",
       "49589                                                                                                                                                                                                                                                                                                                                                                                                                                                                                                                     {}   \n",
       "2530369                                                                                                                                                                                                                                                                                                                                                                                                                                                                                                                   {}   \n",
       "2414998                                                                                                                                                                                                                                                                                                                                                                                                                                                                                                                   {}   \n",
       "3667586                                                                                                                                                                                                                                                                                                                                                                                                                                                                                                                   {}   \n",
       "\n",
       "                                                                                                                                                                                                                                                                                                                                                                                                                                                                                                                      lyrics  \\\n",
       "1650075  [Interlude]\\nBut is there something more than that?\\nBut is there something more than that?\\nBut is there something more than that?\\nBut is there something more than that?\\nBut is there something more than that?\\nBut is there something more than that?\\nBut is there something more than that?\\nBut is there something more than that?\\nBut is there something more than that?\\nBut is there something more than that?\\nBut is there something more than that?\\nBut is there something more than that?\\nBut...   \n",
       "216670                                                                                                                                                                                                                                                                                                                        Been over\\nBeen over this before\\nBeen over and over\\nBeen over this before\\n\\nAnd over\\nBeen over this before\\n\\nSo over this\\nBeen over this\\nSo over this\\nBeen over this\\nOver this before   \n",
       "2297077                                                                                                                                                                                                                                                          [Intro]\\nYeah, yeah\\nYeah, yeah\\nWhy'd you do that?\\nYeah, yeah\\nYeah, yeah\\nWhy'd you do that?\\nYeah, yeah\\nYeah, yeah\\nWhy'd you do that?\\nYeah, yeah\\nYeah, yeah\\nWhy'd you do that?\\nYeah, yeah\\nYeah, yeah\\nYeah, yeah\\nYeah, yeah\\nWhy'd you do that?   \n",
       "2199622                                   No, I don't, everything's over now\\nNo, I don't, everything's over now\\nNo, I don't, everything's over now\\nNo, I don't, everything's over now\\nNo, I don't, everything's over now\\nNo, I don't, everything's over now\\nNo, I don't, everything's over now\\nNo, I don't, everything's over now\\nNo, I don't, everything's over now\\nNo, I don't, everything's over now\\nNo, I don't, everything's over now\\nNo, I don't, everything's over now\\nNo, I don't, everything's over now   \n",
       "469192                                                                                                                                                                                                                                                                                                                                                                    [Verse]\\nOh, oh, you know that I\\nYou know that I want to be with you, with you\\nI just wanna be with you\\nOh, oh, ooh, oh, oh, oh, oh, oh, oh, oh   \n",
       "...                                                                                                                                                                                                                                                                                                                                                                                                                                                                                                                      ...   \n",
       "4555690  [Intro: DJ Kay Slay & Sheek Louch]\\nTrackateering Music\\nMan, y'all did it with this one here, y'all\\nPeople love to use that quote, \"I'm doin' it for the culture\"\\nBut what culture is that that you're talking about?\\nThe one that you claim as a hip-hop artist\\nBut won't do the research on hip-hop history\\nOr the one where you disrespect, disconnect\\nAnd disregard the founding fathers?\\nBut you know what? Whatever it is, it don't even matter\\n'Cause as long as I'm alive\\nI'ma show and prove ...   \n",
       "49589    [Vocal Layer 1: Canibus]\\nI got bored with 4 beats to the measure\\nProfessor speech compressor terminated his tenure to explore more rewarding adventure\\nTake a closer look at the bars\\nYou'll see I'm not behind them or in front of them, I'm one of them\\nStarted with a 100, the Game spit 3, I said, \"Fuck it\\nI'ma have to show these niggas something\"\\nToo easy, who'd believe me if I said that it wasn't?\\nThe rhyme is a weapon, I bust it, the Brotherhood got me covered\\nOP orders with coordina...   \n",
       "2530369  [Intro]\\nYeah, uh, uh\\nUh-huh, huh, hahaha\\nSome of y'all be sayin' y'all freestylin'\\nBut y'all be like... spittin' writtens and shit\\nHaha, that's BS\\nUh, uh-huh, uh, uh-huh, uh, uh-huh\\nUh, I don't even write my wrongs, haha\\nAyy, yuh\\n\\n[Part 1: Waves by Joey Bada$$]\\n\\n[Verse 1]\\nOff the top, kickin' it, no karate class\\nJanitor, I'll mop his ass up, chop his ass up\\nI'm the best at what I do, can't nobody do it better\\nYour girl a sprinkler system from the way I get her wetter\\nUh, I'm...   \n",
       "2414998  [Part I: Three 6 Mafia - Who Run It (Megamix)]\\n[Intro 1: Producer Tag]\\nFinny Music\\n\\n[Intro 2: DJ Paul]\\nWho run it\\nWho run it, who run it\\nWho run it, who run it\\nWho run it, who run it\\nWho run it, who run it\\nWho run it, who run it\\nWho run it, who run it\\nWho run it, who run it\\n\\n[Chorus: DJ Paul]\\nThese bitches ain't runnin' (runnin'!), shit but y'all mouth\\nCause the first hater step, the first hater get tossed out\\nThese bitches ain't runnin' (runnin'!), shit but y'all mouth\\nCau...   \n",
       "3667586  [00:00:00]\\nOh shit, I guess we're starting\\nThe mic is where my heart is\\nI know what my part is\\nI hear my own voice\\nI make my own choice\\nI guess, we're fuckin' doing it\\nThe horse is out the gates\\nIt's time to start the race\\nShoutout to Kathy Bates and also Betty White\\nAll the people, if you're the type\\nI wanna say that you're equal on the mic\\nBut nobody's equal to me\\nNobody is coming for my neck\\nI am looking for respect\\nI'm not looking for a check\\nUnless it is for my friends\\n...   \n",
       "\n",
       "              id language_cld3 language_ft language  \\\n",
       "1650075  2165812            en          en       en   \n",
       "216670    253848            en          en       en   \n",
       "2297077  3444425            en          en       en   \n",
       "2199622  3281892            en          en       en   \n",
       "469192    765778            en          en       en   \n",
       "...          ...           ...         ...      ...   \n",
       "4555690  6917758            en          en       en   \n",
       "49589      52375            en          en       en   \n",
       "2530369  3812108            en          en       en   \n",
       "2414998  3644860            en          en       en   \n",
       "3667586  5541941            en          en       en   \n",
       "\n",
       "                                                                                                                                                                                                                                                                                                                                                                                                                                                                                                              lyrics_cleaned  \\\n",
       "1650075   But is there something more than that? But is there something more than that? But is there something more than that? But is there something more than that? But is there something more than that? But is there something more than that? But is there something more than that? But is there something more than that? But is there something more than that? But is there something more than that? But is there something more than that? But is there something more than that? But is there something more...   \n",
       "216670                                                                                                                                                                                                                                                                                                                                    Been over Been over this before Been over and over Been over this before  And over Been over this before  So over this Been over this So over this Been over this Over this before   \n",
       "2297077                                                                                                                                                                                                                                                                                   Yeah, yeah Yeah, yeah Why'd you do that? Yeah, yeah Yeah, yeah Why'd you do that? Yeah, yeah Yeah, yeah Why'd you do that? Yeah, yeah Yeah, yeah Why'd you do that? Yeah, yeah Yeah, yeah Yeah, yeah Yeah, yeah Why'd you do that?   \n",
       "2199622                                               No, I don't, everything's over now No, I don't, everything's over now No, I don't, everything's over now No, I don't, everything's over now No, I don't, everything's over now No, I don't, everything's over now No, I don't, everything's over now No, I don't, everything's over now No, I don't, everything's over now No, I don't, everything's over now No, I don't, everything's over now No, I don't, everything's over now No, I don't, everything's over now   \n",
       "469192                                                                                                                                                                                                                                                                                                                                                                                Oh, oh, you know that I You know that I want to be with you, with you I just wanna be with you Oh, oh, ooh, oh, oh, oh, oh, oh, oh, oh   \n",
       "...                                                                                                                                                                                                                                                                                                                                                                                                                                                                                                                      ...   \n",
       "4555690   Trackateering Music Man, y'all did it with this one here, y'all People love to use that quote, \"I'm doin' it for the culture\" But what culture is that that you're talking about? The one that you claim as a hip-hop artist But won't do the research on hip-hop history Or the one where you disrespect, disconnect And disregard the founding fathers? But you know what? Whatever it is, it don't even matter 'Cause as long as I'm alive I'ma show and prove where this culture came from And what it's re...   \n",
       "49589     I got bored with 4 beats to the measure Professor speech compressor terminated his tenure to explore more rewarding adventure Take a closer look at the bars You'll see I'm not behind them or in front of them, I'm one of them Started with a 100, the Game spit 3, I said, \"Fuck it I'ma have to show these niggas something\" Too easy, who'd believe me if I said that it wasn't? The rhyme is a weapon, I bust it, the Brotherhood got me covered OP orders with coordinates where to drop mortars I drive...   \n",
       "2530369   Yeah, uh, uh Uh-huh, huh, hahaha Some of y'all be sayin' y'all freestylin' But y'all be like... spittin' writtens and shit Haha, that's BS Uh, uh-huh, uh, uh-huh, uh, uh-huh Uh, I don't even write my wrongs, haha Ayy, yuh     Off the top, kickin' it, no karate class Janitor, I'll mop his ass up, chop his ass up I'm the best at what I do, can't nobody do it better Your girl a sprinkler system from the way I get her wetter Uh, I'm out the jam like jelly I'ma go hard, catch a shot like Belly I...   \n",
       "2414998    Finny Music   Who run it Who run it, who run it Who run it, who run it Who run it, who run it Who run it, who run it Who run it, who run it Who run it, who run it Who run it, who run it   These bitches ain't runnin' (runnin'!), shit but y'all mouth Cause the first hater step, the first hater get tossed out These bitches ain't runnin' (runnin'!), shit but y'all mouth Cause the first hater step, the first hater get tossed out These bitches ain't runnin' (runnin'!), shit but y'all mouth Cause...   \n",
       "3667586   Oh shit, I guess we're starting The mic is where my heart is I know what my part is I hear my own voice I make my own choice I guess, we're fuckin' doing it The horse is out the gates It's time to start the race Shoutout to Kathy Bates and also Betty White All the people, if you're the type I wanna say that you're equal on the mic But nobody's equal to me Nobody is coming for my neck I am looking for respect I'm not looking for a check Unless it is for my friends That's why we're doing this...   \n",
       "\n",
       "                                                                                                                                                                                                                                                                                                                                                                                                                                                                                                              data_tokenized  \\\n",
       "1650075                                                                                                                                                                                                                                                                                                                                                                                                                                                                                                                   []   \n",
       "216670                                                                                                                                                                                                                                                                                                                                                                                                                                                                                                                    []   \n",
       "2297077                                                                                                                                                                                                                                                                                                                                                                                                                                                                                                                   []   \n",
       "2199622                                                                                                                                                                                                                                                                                                                                                                                                                                                                                                                   []   \n",
       "469192                                                                                                                                                                                                                                                                                                                                                                                                                                                                                                                [want]   \n",
       "...                                                                                                                                                                                                                                                                                                                                                                                                                                                                                                                      ...   \n",
       "4555690  [trackateere, music, man, people, love, use, doin, culture, culture, talk, claim, hip, hop, artist, hip, hop, history, disrespect, disconnect, disregard, founding, father, know, even, matter, cause, long, alive, show, prove, culture, come, really, get, nigga, shootin, fuck, peace, silverback, new, huey, feel, stare, new, judge, hand, cop, niggas, block, talk, lil, act, man, somethin, niggas, track, know, tell, get, gun, old, new, call, king, status, go, fuck, around, get, burn, bar, jail, ni...   \n",
       "49589    [get, bore, beat, measure, professor, speech, compressor, terminate, tenure, explore, rewarding, adventure, take, close, look, bar, see, front, start, game, spit, say, fuck, show, easy, believe, say, get, cover, op, order, coordinate, drop, mortar, drive, forward, sandstorm, make, eye, water, phone, screen, call, place, far, away, rhyme, raw, deeply, crawl, walk, think, thought, talk, spit, sport, lose, pay, nail, corpse, cross, great, time, supposedly, bar, probably, always, mentally, top, ...   \n",
       "2530369  [spittin, written, shit, even, write, wrong, class, janitor, mop, ass, good, well, girl, sprinkler, system, way, get, wetter, jam, go, hard, catch, shoot, belly, well, ever, body, fluid, feel, flocka, let, music, dome, kinda, get, impediment, spittin, rippin, written, writin, damn, thing, doin, damn, thing, rap, sing, ring, bell, king, well, king, marry, money, fuck, need, buy, ring, pull, scene, get, ring, joke, get, zinge, man, shit, look, easy, grind, trukfit, lil, weezy, bitch, sleazy, b...   \n",
       "2414998  [finny, music, run, run, run, run, run, run, run, run, run, run, run, run, run, run, run, bitch, cause, first, hater, step, first, hater, get, toss, bitch, cause, first, hater, step, first, hater, get, toss, bitch, cause, first, hater, step, first, hater, get, toss, bitch, cause, first, step, first, toss, get, plenty, anna, get, plenty, gun, bustin, luxury, car, still, get, hoe, run, hearin, plenty, mean, word, action, boot, straight, meet, middle, ring, pop, chest, plastic, glock, pop, jaw,...   \n",
       "3667586  [shit, guess, start, mic, heart, know, part, hear, voice, make, choice, guess, time, start, race, shoutout, kathy, bate, also, betty, white, say, equal, mic, equal, come, neck, look, respect, look, check, friend, make, penny, maybe, make, amend, sailor, sea, get, bend, go, ocean, rock, motion, sip, potion, share, emotion, dare, fuck, sea, deep, water, vent, get, bend, bent, think, meant, crew, gigantic, look, sea, titanic, shit, mean, find, already, abound, treasure, man, give, pleasure, kno...   \n",
       "\n",
       "         num_tokens  \n",
       "1650075           0  \n",
       "216670            0  \n",
       "2297077           0  \n",
       "2199622           0  \n",
       "469192            1  \n",
       "...             ...  \n",
       "4555690        3620  \n",
       "49589          4308  \n",
       "2530369        4504  \n",
       "2414998        5378  \n",
       "3667586        6438  \n",
       "\n",
       "[250000 rows x 14 columns]"
      ]
     },
     "execution_count": 127,
     "metadata": {},
     "output_type": "execute_result"
    }
   ],
   "source": [
    "top_songs.sort_values(by=['num_tokens'])"
   ]
  },
  {
   "cell_type": "code",
   "execution_count": 131,
   "id": "3ecf8b9e-1809-4ed8-bd48-4e160b9fd9cb",
   "metadata": {},
   "outputs": [
    {
     "data": {
      "text/plain": [
       "40.0"
      ]
     },
     "execution_count": 131,
     "metadata": {},
     "output_type": "execute_result"
    }
   ],
   "source": [
    "top_songs.num_tokens.quantile(.05)"
   ]
  },
  {
   "cell_type": "code",
   "execution_count": 136,
   "id": "a8312510-db51-473f-aa77-fa87bc11c9b9",
   "metadata": {},
   "outputs": [
    {
     "data": {
      "text/plain": [
       "335.0"
      ]
     },
     "execution_count": 136,
     "metadata": {},
     "output_type": "execute_result"
    }
   ],
   "source": [
    "top_songs.num_tokens.quantile(.98)"
   ]
  },
  {
   "cell_type": "code",
   "execution_count": 137,
   "id": "34c6a64a-e2f3-455b-9450-0c342eff826c",
   "metadata": {},
   "outputs": [],
   "source": [
    "top_songs_final = top_songs[(top_songs.num_tokens<335) & (top_songs.num_tokens>40)]"
   ]
  },
  {
   "cell_type": "code",
   "execution_count": 138,
   "id": "e56c19fa-9029-44a0-9fce-448f2e5f0457",
   "metadata": {},
   "outputs": [
    {
     "data": {
      "image/png": "[encoded data removed]",
      "text/plain": [
       "<Figure size 640x480 with 1 Axes>"
      ]
     },
     "metadata": {},
     "output_type": "display_data"
    }
   ],
   "source": [
    "# Plot value counts as a bar plot\n",
    "top_songs_final['tag'].value_counts().plot(kind='bar')\n",
    "\n",
    "# Set plot title and axis labels\n",
    "plt.title('Value Counts of Genres After Filtering')\n",
    "plt.xlabel('Genre')b\n",
    "plt.ylabel('Count')\n",
    "\n",
    "# Display the plot\n",
    "plt.show()"
   ]
  },
  {
   "cell_type": "code",
   "execution_count": 139,
   "id": "486a9ee5-409b-4e57-ade6-a0406349894b",
   "metadata": {},
   "outputs": [],
   "source": [
    "top_songs_final.to_csv('top_songs_final.csv')"
   ]
  },
  {
   "cell_type": "code",
   "execution_count": 2,
   "id": "1672903c-4343-4775-a47b-ce472d4d18ed",
   "metadata": {},
   "outputs": [],
   "source": [
    "from google.cloud import storage\n",
    "import os\n",
    "import io\n",
    "client = storage.Client()\n",
    "bucket = client.get_bucket('nlp_final_data')\n",
    "\n",
    "blob = bucket.blob('songs_nGrams.csv')"
   ]
  },
  {
   "cell_type": "code",
   "execution_count": 3,
   "id": "a79f743b-391f-46fe-9c83-c37aee5714aa",
   "metadata": {},
   "outputs": [],
   "source": [
    "blob = bucket.blob('top_songs_final.csv')\n",
    "blob.upload_from_filename('top_songs_final.csv')"
   ]
  },
  {
   "cell_type": "markdown",
   "id": "1dd67d68-30ba-4f01-8bd4-00106a22d97a",
   "metadata": {},
   "source": [
    "## Create Model"
   ]
  },
  {
   "cell_type": "code",
   "execution_count": 140,
   "id": "4674ef66-1c81-4d60-ad33-3ef8eefbf72a",
   "metadata": {},
   "outputs": [],
   "source": [
    "import numpy as np\n",
    "import tensorflow as tf\n",
    "from sklearn.model_selection import train_test_split\n",
    "from sklearn.preprocessing import LabelEncoder\n",
    "\n",
    "from sklearn.preprocessing import LabelEncoder\n",
    "from keras.layers import LSTM,Dense,Dropout, Reshape, Conv1D, GlobalMaxPooling1D, MaxPooling1D, Flatten\n",
    "from keras.models import Sequential\n",
    "from keras.layers import Embedding,SimpleRNN\n",
    "from tensorflow.keras.preprocessing.sequence import pad_sequences\n",
    "from keras.preprocessing.text import Tokenizer\n",
    "from keras.utils import np_utils\n",
    "\n",
    "from tensorflow.keras.optimizers import Adam\n",
    "\n",
    "from gensim.models import Word2Vec"
   ]
  },
  {
   "cell_type": "code",
   "execution_count": 141,
   "id": "a6d90f5c-96c3-4270-a59a-d3411ec67e19",
   "metadata": {},
   "outputs": [],
   "source": [
    "X = top_songs_final['data_tokenized']\n",
    "y = top_songs_final['tag']"
   ]
  },
  {
   "cell_type": "code",
   "execution_count": 142,
   "id": "7a81e23f-1658-4219-b54c-716a66240bf6",
   "metadata": {},
   "outputs": [],
   "source": [
    "# split the balanced data into training and testing sets\n",
    "#X_train, X_test, y_train, y_test = train_test_split(X_vec, y, test_size=0.2,stratify=y, random_state=42)\n",
    "X_train, X_test, y_train, y_test = train_test_split(X, y, test_size=0.2,stratify=y, random_state=42)"
   ]
  },
  {
   "cell_type": "code",
   "execution_count": 143,
   "id": "adae1a5e-610b-4e7d-be39-3ef2e4e7602d",
   "metadata": {},
   "outputs": [],
   "source": [
    "tokenize = Tokenizer(char_level=False)\n",
    "tokenize.fit_on_texts(X) # only fit on train\n",
    "\n",
    "# we will need this later\n",
    "num_words = len(tokenize.word_index)+1"
   ]
  },
  {
   "cell_type": "code",
   "execution_count": 144,
   "id": "9e74fb22-6938-4ab7-aceb-c2c669fe19e2",
   "metadata": {},
   "outputs": [
    {
     "data": {
      "text/plain": [
       "106895"
      ]
     },
     "execution_count": 144,
     "metadata": {},
     "output_type": "execute_result"
    }
   ],
   "source": [
    "num_words"
   ]
  },
  {
   "cell_type": "code",
   "execution_count": 145,
   "id": "83a43610-56ef-4ffd-8224-a4cadea04a1c",
   "metadata": {},
   "outputs": [],
   "source": [
    "x_train = tokenize.texts_to_sequences(X_train)\n",
    "x_test = tokenize.texts_to_sequences(X_test)\n",
    "\n",
    "encoder = LabelEncoder()\n",
    "encoder.fit(y_train)\n",
    "y_train = encoder.transform(y_train)\n",
    "y_test = encoder.transform(y_test)\n",
    "\n",
    "num_classes = np.max(y_train) + 1\n",
    "y_train = np_utils.to_categorical(y_train, num_classes)\n",
    "y_test = np_utils.to_categorical(y_test, num_classes)"
   ]
  },
  {
   "cell_type": "code",
   "execution_count": 146,
   "id": "8a4219b3-8884-499a-be5b-0e5ce68499e4",
   "metadata": {},
   "outputs": [],
   "source": [
    "max_len = 0\n",
    "for song in x_train:\n",
    "    if len(song)>max_len:\n",
    "        max_len = len(song)"
   ]
  },
  {
   "cell_type": "code",
   "execution_count": 147,
   "id": "6f3053a2-cac0-49d5-8239-a7c880c40051",
   "metadata": {},
   "outputs": [],
   "source": [
    "max_log_length = max_len\n",
    "x_train = pad_sequences(x_train, maxlen=max_log_length)\n",
    "x_test = pad_sequences(x_test, maxlen=max_log_length)"
   ]
  },
  {
   "cell_type": "code",
   "execution_count": 162,
   "id": "7a06236b-d6df-44d6-9469-f8e2863011f6",
   "metadata": {},
   "outputs": [],
   "source": [
    "model3 = Sequential()\n",
    "\n",
    "model3.add(Embedding(input_dim=num_words,output_dim=64,input_length=max_log_length))\n",
    "\n",
    "num_filters = 128\n",
    "kernel_sizes = [2,3]\n",
    "for kernel_size in kernel_sizes:\n",
    "    model3.add(Conv1D(num_filters, kernel_size, activation='relu'))\n",
    "    model3.add(MaxPooling1D(pool_size=2))\n",
    "#model3.add(Conv1D(128, 3, activation='relu'))\n",
    "\n",
    "\n",
    "model3.add(LSTM(units=64,recurrent_dropout=0.5))\n",
    "model3.add(Dropout(0.5))\n",
    "\n",
    "# Add Dense layers\n",
    "hidden_units = [128,64]\n",
    "for units in hidden_units:\n",
    "    model3.add(Dense(units, activation='relu'))\n",
    "    model3.add(Dropout(0.5))\n",
    "    \n",
    "model3.add(Dense(num_classes,activation='softmax'))\n",
    "\n",
    "# compile the model\n",
    "model3.compile(optimizer='adam',\n",
    "              loss='categorical_crossentropy',\n",
    "              metrics=['accuracy'])"
   ]
  },
  {
   "cell_type": "code",
   "execution_count": 152,
   "id": "ebb0e3b0-9fe0-4ea7-b2d2-f6c0bf3c2690",
   "metadata": {},
   "outputs": [
    {
     "name": "stdout",
     "output_type": "stream",
     "text": [
      "Epoch 1/10\n",
      "1305/1305 [==============================] - 218s 165ms/step - loss: 1.2153 - accuracy: 0.4757 - val_loss: 1.0410 - val_accuracy: 0.5731\n",
      "Epoch 2/10\n",
      "1305/1305 [==============================] - 210s 161ms/step - loss: 1.0215 - accuracy: 0.5952 - val_loss: 1.0017 - val_accuracy: 0.5974\n",
      "Epoch 3/10\n",
      "1305/1305 [==============================] - 210s 161ms/step - loss: 0.9312 - accuracy: 0.6364 - val_loss: 1.0199 - val_accuracy: 0.5958\n",
      "Epoch 4/10\n",
      "1305/1305 [==============================] - 209s 160ms/step - loss: 0.8506 - accuracy: 0.6743 - val_loss: 1.0558 - val_accuracy: 0.5804\n",
      "Epoch 5/10\n",
      "1305/1305 [==============================] - 207s 159ms/step - loss: 0.7672 - accuracy: 0.7116 - val_loss: 1.1595 - val_accuracy: 0.5813\n",
      "Epoch 6/10\n",
      "1305/1305 [==============================] - 208s 160ms/step - loss: 0.6788 - accuracy: 0.7489 - val_loss: 1.2094 - val_accuracy: 0.5776\n",
      "Epoch 7/10\n",
      "1305/1305 [==============================] - 208s 159ms/step - loss: 0.5955 - accuracy: 0.7829 - val_loss: 1.3473 - val_accuracy: 0.5661\n",
      "Epoch 8/10\n",
      "1305/1305 [==============================] - 210s 161ms/step - loss: 0.4624 - accuracy: 0.8355 - val_loss: 1.6621 - val_accuracy: 0.5689\n",
      "Epoch 10/10\n",
      "1305/1305 [==============================] - 221s 169ms/step - loss: 0.4154 - accuracy: 0.8548 - val_loss: 1.8205 - val_accuracy: 0.5634\n"
     ]
    }
   ],
   "source": [
    "history = model3.fit(x_train, y_train,\n",
    "                    batch_size=128,\n",
    "                    epochs=10,\n",
    "                    verbose=1,\n",
    "                    validation_split=0.1)"
   ]
  },
  {
   "cell_type": "code",
   "execution_count": 150,
   "id": "bbe74b10-577b-40eb-a8e5-784588244433",
   "metadata": {},
   "outputs": [],
   "source": [
    "model3.save('model_top_songs.h5')"
   ]
  },
  {
   "cell_type": "code",
   "execution_count": 158,
   "id": "707ceb9d-25b0-488a-a8a3-1ecd547da048",
   "metadata": {},
   "outputs": [],
   "source": [
    "def plot_train(history):\n",
    "    \"\"\"\n",
    "    Plot the keras epoch results thru training\n",
    "    \"\"\"\n",
    "    h = history.history\n",
    "    epochs = range(1, len(h['accuracy']) + 1)\n",
    "    plt.plot(epochs, h['accuracy'], 'go', label='Training acc')\n",
    "    plt.plot(epochs, h['val_accuracy'], 'g', label='Validation acc')\n",
    "    plt.title('Training and Validation Accuracy')\n",
    "    plt.xlabel('Epochs')\n",
    "    plt.ylabel('Accuracy')\n",
    "    plt.legend()\n",
    "    plt.show()"
   ]
  },
  {
   "cell_type": "code",
   "execution_count": 159,
   "id": "b46bb6e7-99b1-48ca-9849-018cf6b6048b",
   "metadata": {},
   "outputs": [
    {
     "data": {
      "image/png": "[encoded data removed]",
      "text/plain": [
       "<Figure size 640x480 with 1 Axes>"
      ]
     },
     "metadata": {},
     "output_type": "display_data"
    }
   ],
   "source": [
    "plot_train(history)"
   ]
  },
  {
   "cell_type": "code",
   "execution_count": 63,
   "id": "67bc3ccf-6cb0-475e-a849-9f6c53039a10",
   "metadata": {},
   "outputs": [],
   "source": [
    "bucket_name = 'nlp_final_data'\n",
    "\n",
    "def write_to_blob(bucket_name,filename,data):\n",
    "    with open(data, 'w', newline='') as csvfile:\n",
    "        writer = csv.writer(csvfile)\n",
    "        writer.writerows(data)\n",
    "\n",
    "    bucket = storage_client.get_bucket(bucket_name)\n",
    "    blob = bucket.blob(filename)\n",
    "    blob.upload_from_filename(filename)"
   ]
  },
  {
   "cell_type": "code",
   "execution_count": null,
   "id": "77e22637-76c9-4001-891b-568403aa2138",
   "metadata": {},
   "outputs": [],
   "source": []
  },
  {
   "cell_type": "code",
   "execution_count": 78,
   "id": "44ba5033-3aaa-456a-9488-5ee0ca39d4c9",
   "metadata": {},
   "outputs": [
    {
     "ename": "TypeError",
     "evalue": "expected str, bytes or os.PathLike object, not DataFrame",
     "output_type": "error",
     "traceback": [
      "\u001b[0;31m---------------------------------------------------------------------------\u001b[0m",
      "\u001b[0;31mTypeError\u001b[0m                                 Traceback (most recent call last)",
      "\u001b[0;32m/var/tmp/ipykernel_2517/2238124358.py\u001b[0m in \u001b[0;36m<module>\u001b[0;34m\u001b[0m\n\u001b[0;32m----> 1\u001b[0;31m \u001b[0mwrite_to_blob\u001b[0m\u001b[0;34m(\u001b[0m\u001b[0mbucket_name\u001b[0m\u001b[0;34m,\u001b[0m\u001b[0;34m'songs_filtered.csv'\u001b[0m\u001b[0;34m,\u001b[0m\u001b[0msongs_filtered\u001b[0m\u001b[0;34m)\u001b[0m\u001b[0;34m\u001b[0m\u001b[0;34m\u001b[0m\u001b[0m\n\u001b[0m",
      "\u001b[0;32m/var/tmp/ipykernel_2517/2021869334.py\u001b[0m in \u001b[0;36mwrite_to_blob\u001b[0;34m(bucket_name, filename, data)\u001b[0m\n\u001b[1;32m      2\u001b[0m \u001b[0;34m\u001b[0m\u001b[0m\n\u001b[1;32m      3\u001b[0m \u001b[0;32mdef\u001b[0m \u001b[0mwrite_to_blob\u001b[0m\u001b[0;34m(\u001b[0m\u001b[0mbucket_name\u001b[0m\u001b[0;34m,\u001b[0m\u001b[0mfilename\u001b[0m\u001b[0;34m,\u001b[0m\u001b[0mdata\u001b[0m\u001b[0;34m)\u001b[0m\u001b[0;34m:\u001b[0m\u001b[0;34m\u001b[0m\u001b[0;34m\u001b[0m\u001b[0m\n\u001b[0;32m----> 4\u001b[0;31m     \u001b[0;32mwith\u001b[0m \u001b[0mopen\u001b[0m\u001b[0;34m(\u001b[0m\u001b[0mdata\u001b[0m\u001b[0;34m,\u001b[0m \u001b[0;34m'w'\u001b[0m\u001b[0;34m,\u001b[0m \u001b[0mnewline\u001b[0m\u001b[0;34m=\u001b[0m\u001b[0;34m''\u001b[0m\u001b[0;34m)\u001b[0m \u001b[0;32mas\u001b[0m \u001b[0mcsvfile\u001b[0m\u001b[0;34m:\u001b[0m\u001b[0;34m\u001b[0m\u001b[0;34m\u001b[0m\u001b[0m\n\u001b[0m\u001b[1;32m      5\u001b[0m         \u001b[0mwriter\u001b[0m \u001b[0;34m=\u001b[0m \u001b[0mcsv\u001b[0m\u001b[0;34m.\u001b[0m\u001b[0mwriter\u001b[0m\u001b[0;34m(\u001b[0m\u001b[0mcsvfile\u001b[0m\u001b[0;34m)\u001b[0m\u001b[0;34m\u001b[0m\u001b[0;34m\u001b[0m\u001b[0m\n\u001b[1;32m      6\u001b[0m         \u001b[0mwriter\u001b[0m\u001b[0;34m.\u001b[0m\u001b[0mwriterows\u001b[0m\u001b[0;34m(\u001b[0m\u001b[0mdata\u001b[0m\u001b[0;34m)\u001b[0m\u001b[0;34m\u001b[0m\u001b[0;34m\u001b[0m\u001b[0m\n",
      "\u001b[0;31mTypeError\u001b[0m: expected str, bytes or os.PathLike object, not DataFrame"
     ]
    }
   ],
   "source": [
    "write_to_blob(bucket_name,'songs_filtered.csv',songs_filtered)"
   ]
  },
  {
   "cell_type": "code",
   "execution_count": 23,
   "id": "5fee7ef7-354c-4bc1-b904-9249f6c22785",
   "metadata": {},
   "outputs": [
    {
     "data": {
      "text/plain": [
       "pop        1393559\n",
       "rap         964605\n",
       "rock        633308\n",
       "rb          155082\n",
       "country      86658\n",
       "Name: tag, dtype: int64"
      ]
     },
     "execution_count": 23,
     "metadata": {},
     "output_type": "execute_result"
    }
   ],
   "source": [
    "songs_noMIsc.tag.value_counts()"
   ]
  },
  {
   "cell_type": "code",
   "execution_count": 25,
   "id": "42d92659-c701-4045-93e3-5ac71290b57c",
   "metadata": {},
   "outputs": [],
   "source": []
  },
  {
   "cell_type": "code",
   "execution_count": 27,
   "id": "2adcf25b-6121-40ad-8995-83d8a5d1145c",
   "metadata": {},
   "outputs": [
    {
     "data": {
      "text/plain": [
       "433290"
      ]
     },
     "execution_count": 27,
     "metadata": {},
     "output_type": "execute_result"
    }
   ],
   "source": [
    "len(sampled_df)"
   ]
  },
  {
   "cell_type": "code",
   "execution_count": 35,
   "id": "9439401e-9312-442f-8668-9b2c7e081def",
   "metadata": {},
   "outputs": [],
   "source": [
    "sampled_df.to_csv('songs_even_sample.csv')"
   ]
  },
  {
   "cell_type": "code",
   "execution_count": null,
   "id": "5a0f228f-0602-4405-8c01-fd683e9905a5",
   "metadata": {},
   "outputs": [],
   "source": [
    "write_to_blob(bucket_name,'data_even_sample.csv',sampled_df)"
   ]
  }
 ],
 "metadata": {
  "environment": {
   "kernel": "python3",
   "name": "tf2-gpu.2-8.m108",
   "type": "gcloud",
   "uri": "gcr.io/deeplearning-platform-release/tf2-gpu.2-8:m108"
  },
  "kernelspec": {
   "display_name": "Python 3 (ipykernel)",
   "language": "python",
   "name": "python3"
  },
  "language_info": {
   "codemirror_mode": {
    "name": "ipython",
    "version": 3
   },
   "file_extension": ".py",
   "mimetype": "text/x-python",
   "name": "python",
   "nbconvert_exporter": "python",
   "pygments_lexer": "ipython3",
   "version": "3.7.12"
  }
 },
 "nbformat": 4,
 "nbformat_minor": 5
}
