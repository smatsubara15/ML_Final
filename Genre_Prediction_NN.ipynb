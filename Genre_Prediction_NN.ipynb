{
 "cells": [
  {
   "cell_type": "code",
   "execution_count": 1,
   "id": "1f936d5b-fdc0-454c-a640-94e22ff9c1bd",
   "metadata": {},
   "outputs": [],
   "source": [
    "import pandas as pd\n",
    "import numpy as np\n",
    "import tensorflow as tf\n",
    "from sklearn.model_selection import train_test_split\n",
    "from sklearn.preprocessing import LabelEncoder\n",
    "\n",
    "from sklearn.preprocessing import LabelEncoder\n",
    "from keras.layers import LSTM,Dense,Dropout, Reshape, Conv1D, GlobalMaxPooling1D, MaxPooling1D, Flatten\n",
    "from keras.models import Sequential\n",
    "from keras.layers import Embedding,SimpleRNN\n",
    "from tensorflow.keras.preprocessing.sequence import pad_sequences\n",
    "from keras.preprocessing.text import Tokenizer\n",
    "from keras.utils import np_utils\n",
    "\n",
    "from tensorflow.keras.optimizers import Adam\n",
    "\n",
    "from gensim.models import Word2Vec\n",
    "\n",
    "import matplotlib.pyplot as plt"
   ]
  },
  {
   "cell_type": "code",
   "execution_count": 2,
   "id": "72c73832-cd71-4e72-98ab-7d8065513bf3",
   "metadata": {},
   "outputs": [],
   "source": [
    "from google.cloud import storage\n",
    "import os\n",
    "import io\n",
    "client = storage.Client()\n",
    "bucket = client.get_bucket('nlp_final_data')\n",
    "\n",
    "blob = bucket.blob('top_songs_final.csv')\n",
    "content = blob.download_as_string()\n",
    "\n",
    "df = pd.read_csv(io.BytesIO(content))"
   ]
  },
  {
   "cell_type": "code",
   "execution_count": 3,
   "id": "776d5766-fe9e-451d-8583-bd9246e5a726",
   "metadata": {},
   "outputs": [],
   "source": [
    "df['data_tokenized'] = df['data_tokenized'].apply(lambda x: x.strip('[]').replace('\\'', '').split(', '))"
   ]
  },
  {
   "cell_type": "code",
   "execution_count": 4,
   "id": "8cb4d67b-7e1e-4ee8-94ce-662a73625d4b",
   "metadata": {},
   "outputs": [],
   "source": [
    "X = df['data_tokenized']\n",
    "y = df['tag']"
   ]
  },
  {
   "cell_type": "code",
   "execution_count": 5,
   "id": "2b9b8ebb-1d70-4d17-be3b-9b9f9eb2433a",
   "metadata": {},
   "outputs": [],
   "source": [
    "# split the balanced data into training and testing sets\n",
    "#X_train, X_test, y_train, y_test = train_test_split(X_vec, y, test_size=0.2,stratify=y, random_state=42)\n",
    "X_train, X_test, y_train, y_test = train_test_split(X, y, test_size=0.2,stratify=y, random_state=42)"
   ]
  },
  {
   "cell_type": "code",
   "execution_count": 6,
   "id": "69d3daa2-02bc-4ac9-b8ef-b6fe434e431c",
   "metadata": {},
   "outputs": [],
   "source": [
    "tokenize = Tokenizer(char_level=False)\n",
    "tokenize.fit_on_texts(X) # only fit on train\n",
    "\n",
    "# we will need this later\n",
    "num_words = len(tokenize.word_index)+1"
   ]
  },
  {
   "cell_type": "code",
   "execution_count": 7,
   "id": "959d50bb-62db-4876-8830-4ba060f017f6",
   "metadata": {},
   "outputs": [
    {
     "data": {
      "text/plain": [
       "106895"
      ]
     },
     "execution_count": 7,
     "metadata": {},
     "output_type": "execute_result"
    }
   ],
   "source": [
    "num_words"
   ]
  },
  {
   "cell_type": "code",
   "execution_count": 8,
   "id": "d649a20b-1bc0-4746-9dd8-d3e77f6abea1",
   "metadata": {},
   "outputs": [],
   "source": [
    "x_train = tokenize.texts_to_sequences(X_train)\n",
    "x_test = tokenize.texts_to_sequences(X_test)\n",
    "\n",
    "encoder = LabelEncoder()\n",
    "encoder.fit(y_train)\n",
    "y_train = encoder.transform(y_train)\n",
    "y_test = encoder.transform(y_test)\n",
    "\n",
    "num_classes = np.max(y_train) + 1\n",
    "y_train = np_utils.to_categorical(y_train, num_classes)\n",
    "y_test = np_utils.to_categorical(y_test, num_classes)"
   ]
  },
  {
   "cell_type": "code",
   "execution_count": 29,
   "id": "d8f4f2ff-cb4b-4655-8692-3148cdaf4c97",
   "metadata": {},
   "outputs": [
    {
     "data": {
      "text/plain": [
       "array(['country', 'pop', 'rap', 'rb', 'rock'], dtype=object)"
      ]
     },
     "execution_count": 29,
     "metadata": {},
     "output_type": "execute_result"
    }
   ],
   "source": [
    "encoder.classes_"
   ]
  },
  {
   "cell_type": "code",
   "execution_count": 9,
   "id": "6d8c2929-0e2f-42b4-9edc-cd9ad98054d2",
   "metadata": {},
   "outputs": [],
   "source": [
    "max_len = 0\n",
    "for song in x_train:\n",
    "    if len(song)>max_len:\n",
    "        max_len = len(song)"
   ]
  },
  {
   "cell_type": "code",
   "execution_count": 28,
   "id": "4d325c76-4303-4ac2-a619-9be07b3111e5",
   "metadata": {},
   "outputs": [
    {
     "data": {
      "text/plain": [
       "334"
      ]
     },
     "execution_count": 28,
     "metadata": {},
     "output_type": "execute_result"
    }
   ],
   "source": [
    "max_len"
   ]
  },
  {
   "cell_type": "code",
   "execution_count": 11,
   "id": "4fdf0bcb-483c-43c7-ac2f-e08bb1fc30ff",
   "metadata": {},
   "outputs": [],
   "source": [
    "max_log_length = max_len\n",
    "x_train = pad_sequences(x_train, maxlen=max_log_length)\n",
    "x_test = pad_sequences(x_test, maxlen=max_log_length)"
   ]
  },
  {
   "cell_type": "markdown",
   "id": "feccb598-a773-4d35-b91c-b2beb786d038",
   "metadata": {},
   "source": [
    "## Only one Hidden Dense Layer and Output Dimension changed to 128"
   ]
  },
  {
   "cell_type": "code",
   "execution_count": null,
   "id": "2f08424e-2a50-45a7-8344-ef4e60ac83af",
   "metadata": {},
   "outputs": [],
   "source": [
    "model3 = Sequential()\n",
    "\n",
    "model3.add(Embedding(input_dim=num_words,output_dim=128,input_length=max_log_length))\n",
    "\n",
    "num_filters = 128\n",
    "kernel_sizes = [2,3,4]\n",
    "for kernel_size in kernel_sizes:\n",
    "    model3.add(Conv1D(num_filters, kernel_size, activation='relu'))\n",
    "    \n",
    "model3.add(MaxPooling1D(pool_size=2))    \n",
    "model3.add(LSTM(units=64,recurrent_dropout=0.5))\n",
    "model3.add(Dropout(0.5))\n",
    "\n",
    "# Add Dense layers\n",
    "hidden_units = [128]\n",
    "for units in hidden_units:\n",
    "    model3.add(Dense(units, activation='relu'))\n",
    "    model3.add(Dropout(0.5))\n",
    "    \n",
    "model3.add(Dense(num_classes,activation='softmax'))\n",
    "\n",
    "# compile the model\n",
    "model3.compile(optimizer='adam',\n",
    "              loss='categorical_crossentropy',\n",
    "              metrics=['accuracy'])\n",
    "\n"
   ]
  },
  {
   "cell_type": "code",
   "execution_count": 14,
   "id": "a1d51651-ae6c-4464-946c-b5cd0f504e63",
   "metadata": {},
   "outputs": [
    {
     "name": "stdout",
     "output_type": "stream",
     "text": [
      "Epoch 1/3\n",
      "1305/1305 [==============================] - 768s 585ms/step - loss: 1.1908 - accuracy: 0.4909 - val_loss: 1.0450 - val_accuracy: 0.5708\n",
      "Epoch 2/3\n",
      "1305/1305 [==============================] - 739s 566ms/step - loss: 1.0030 - accuracy: 0.6008 - val_loss: 1.0506 - val_accuracy: 0.5816\n",
      "Epoch 3/3\n",
      "1305/1305 [==============================] - 734s 563ms/step - loss: 0.9154 - accuracy: 0.6418 - val_loss: 1.0131 - val_accuracy: 0.5939\n"
     ]
    }
   ],
   "source": [
    "history = model3.fit(x_train, y_train,\n",
    "                    batch_size=128,\n",
    "                    epochs=3,\n",
    "                    verbose=1,\n",
    "                    validation_split=0.1)"
   ]
  },
  {
   "cell_type": "markdown",
   "id": "4deb2400-10a1-4e11-9ff5-48deae121aef",
   "metadata": {},
   "source": [
    "## One Kernal of Size 2 and output dimension: 128"
   ]
  },
  {
   "cell_type": "code",
   "execution_count": 15,
   "id": "cb0d35f7-a969-4342-9694-493cb8bbc3a0",
   "metadata": {},
   "outputs": [],
   "source": [
    "model3 = Sequential()\n",
    "\n",
    "model3.add(Embedding(input_dim=num_words,output_dim=128,input_length=max_log_length))\n",
    "\n",
    "num_filters = 128\n",
    "kernel_sizes = [2]\n",
    "for kernel_size in kernel_sizes:\n",
    "    model3.add(Conv1D(num_filters, kernel_size, activation='relu'))\n",
    "    \n",
    "model3.add(MaxPooling1D(pool_size=2))    \n",
    "model3.add(LSTM(units=64,recurrent_dropout=0.5))\n",
    "model3.add(Dropout(0.5))\n",
    "\n",
    "# Add Dense layers\n",
    "hidden_units = [128]\n",
    "for units in hidden_units:\n",
    "    model3.add(Dense(units, activation='relu'))\n",
    "    model3.add(Dropout(0.5))\n",
    "    \n",
    "model3.add(Dense(num_classes,activation='softmax'))\n",
    "\n",
    "# compile the model\n",
    "model3.compile(optimizer='adam',\n",
    "              loss='categorical_crossentropy',\n",
    "              metrics=['accuracy'])\n",
    "\n"
   ]
  },
  {
   "cell_type": "code",
   "execution_count": 16,
   "id": "41b57dd5-fdc8-4aa2-9f44-095ec358c2fc",
   "metadata": {},
   "outputs": [
    {
     "name": "stdout",
     "output_type": "stream",
     "text": [
      "Epoch 1/3\n",
      "1305/1305 [==============================] - 556s 423ms/step - loss: 1.1440 - accuracy: 0.5261 - val_loss: 1.0213 - val_accuracy: 0.5890\n",
      "Epoch 2/3\n",
      "1305/1305 [==============================] - 553s 424ms/step - loss: 0.9781 - accuracy: 0.6133 - val_loss: 0.9885 - val_accuracy: 0.5983\n",
      "Epoch 3/3\n",
      "1305/1305 [==============================] - 555s 425ms/step - loss: 0.8837 - accuracy: 0.6548 - val_loss: 1.0546 - val_accuracy: 0.5883\n"
     ]
    }
   ],
   "source": [
    "history = model3.fit(x_train, y_train,\n",
    "                    batch_size=128,\n",
    "                    epochs=3,\n",
    "                    verbose=1,\n",
    "                    validation_split=0.1)"
   ]
  },
  {
   "cell_type": "markdown",
   "id": "3e607d66-2b97-4c03-9524-fb5901b27b21",
   "metadata": {},
   "source": [
    "## Num Filters 64"
   ]
  },
  {
   "cell_type": "code",
   "execution_count": 17,
   "id": "ea0212b0-94e3-466e-9e0e-f9b7b1cbb9b6",
   "metadata": {},
   "outputs": [],
   "source": [
    "model3 = Sequential()\n",
    "\n",
    "model3.add(Embedding(input_dim=num_words,output_dim=128,input_length=max_log_length))\n",
    "\n",
    "num_filters = 64\n",
    "kernel_sizes = [2,3]\n",
    "for kernel_size in kernel_sizes:\n",
    "    model3.add(Conv1D(num_filters, kernel_size, activation='relu'))\n",
    "#model3.add(Conv1D(128, 3, activation='relu'))\n",
    "\n",
    "model3.add(MaxPooling1D(pool_size=5))\n",
    "model3.add(LSTM(units=64,recurrent_dropout=0.5))\n",
    "model3.add(Dropout(0.5))\n",
    "\n",
    "# Add Dense layers\n",
    "hidden_units = [128, 64]\n",
    "for units in hidden_units:\n",
    "    model3.add(Dense(units, activation='relu'))\n",
    "    model3.add(Dropout(0.5))\n",
    "    \n",
    "model3.add(Dense(num_classes,activation='softmax'))\n",
    "\n",
    "# compile the model\n",
    "model3.compile(optimizer='adam',\n",
    "              loss='categorical_crossentropy',\n",
    "              metrics=['accuracy'])"
   ]
  },
  {
   "cell_type": "code",
   "execution_count": 18,
   "id": "f32cc8c9-af8d-463d-a101-5246d187765b",
   "metadata": {},
   "outputs": [
    {
     "name": "stdout",
     "output_type": "stream",
     "text": [
      "Epoch 1/3\n",
      "1305/1305 [==============================] - 319s 240ms/step - loss: 1.1974 - accuracy: 0.4866 - val_loss: 1.0177 - val_accuracy: 0.5794\n",
      "Epoch 2/3\n",
      "1305/1305 [==============================] - 337s 258ms/step - loss: 1.0109 - accuracy: 0.5976 - val_loss: 1.0643 - val_accuracy: 0.5539\n",
      "Epoch 3/3\n",
      "1305/1305 [==============================] - 315s 241ms/step - loss: 0.9259 - accuracy: 0.6374 - val_loss: 1.0157 - val_accuracy: 0.5953\n"
     ]
    }
   ],
   "source": [
    "history = model3.fit(x_train, y_train,\n",
    "                    batch_size=128,\n",
    "                    epochs=3,\n",
    "                    verbose=1,\n",
    "                    validation_split=0.1)"
   ]
  },
  {
   "cell_type": "markdown",
   "id": "07fb9f70-354a-46b7-9117-b199eb62dd11",
   "metadata": {},
   "source": [
    "## output dimension: 32, no dropout after lstm"
   ]
  },
  {
   "cell_type": "code",
   "execution_count": 14,
   "id": "536bc7b5-18fe-4cd8-98f8-549e3c4e84ca",
   "metadata": {},
   "outputs": [],
   "source": [
    "model3 = Sequential()\n",
    "\n",
    "model3.add(Embedding(input_dim=num_words,output_dim=32,input_length=max_log_length))\n",
    "\n",
    "num_filters = 128\n",
    "kernel_sizes = [2,3,4]\n",
    "for kernel_size in kernel_sizes:\n",
    "    model3.add(Conv1D(num_filters, kernel_size, activation='relu'))\n",
    "#model3.add(Conv1D(128, 3, activation='relu'))\n",
    "\n",
    "model3.add(MaxPooling1D(pool_size=5))\n",
    "model3.add(LSTM(units=128,recurrent_dropout=0.5))\n",
    "\n",
    "# Add Dense layers\n",
    "hidden_units = [128, 64]\n",
    "for units in hidden_units:\n",
    "    model3.add(Dense(units, activation='relu'))\n",
    "    model3.add(Dropout(0.5))\n",
    "    \n",
    "model3.add(Dense(num_classes,activation='softmax'))\n",
    "\n",
    "# compile the model\n",
    "model3.compile(optimizer='adam',\n",
    "              loss='categorical_crossentropy',\n",
    "              metrics=['accuracy'])"
   ]
  },
  {
   "cell_type": "code",
   "execution_count": 15,
   "id": "83163aa7-dfd0-46aa-9d7d-e063e9e7b9d2",
   "metadata": {},
   "outputs": [
    {
     "name": "stdout",
     "output_type": "stream",
     "text": [
      "Epoch 1/3\n",
      "1305/1305 [==============================] - 477s 362ms/step - loss: 1.2080 - accuracy: 0.4733 - val_loss: 1.0531 - val_accuracy: 0.5610\n",
      "Epoch 2/3\n",
      "1305/1305 [==============================] - 467s 358ms/step - loss: 0.9356 - accuracy: 0.6295 - val_loss: 1.0085 - val_accuracy: 0.5883\n"
     ]
    }
   ],
   "source": [
    "history = model3.fit(x_train, y_train,\n",
    "                    batch_size=128,\n",
    "                    epochs=3,\n",
    "                    verbose=1,\n",
    "                    validation_split=0.1)"
   ]
  },
  {
   "cell_type": "code",
   "execution_count": null,
   "id": "e22b1809-d9ed-41f2-85da-3511d97ca28d",
   "metadata": {},
   "outputs": [],
   "source": []
  },
  {
   "cell_type": "code",
   "execution_count": 25,
   "id": "87522db9-ab47-4b69-a810-2a21a432ff6b",
   "metadata": {},
   "outputs": [],
   "source": [
    "def plot_train(history):\n",
    "    \"\"\"\n",
    "    Plot the keras epoch results thru training\n",
    "    \"\"\"\n",
    "    h = history.history\n",
    "    epochs = range(1, len(h['accuracy']) + 1)\n",
    "    plt.plot(epochs, h['accuracy'], 'go', label='Training acc')\n",
    "    plt.plot(epochs, h['val_accuracy'], 'g', label='Validation acc')\n",
    "    plt.title('Training and Validation Accuracy')\n",
    "    plt.xlabel('Epochs')\n",
    "    plt.ylabel('Accuracy')\n",
    "    plt.legend()\n",
    "    plt.show()"
   ]
  },
  {
   "cell_type": "code",
   "execution_count": 28,
   "id": "9fca2318-a427-4a20-b94d-5dcf25c4c6e1",
   "metadata": {},
   "outputs": [
    {
     "data": {
      "image/png": "[encoded data removed]",
      "text/plain": [
       "<Figure size 640x480 with 1 Axes>"
      ]
     },
     "metadata": {},
     "output_type": "display_data"
    }
   ],
   "source": [
    "plot_train(history)"
   ]
  },
  {
   "cell_type": "markdown",
   "id": "c5c2aaba-f658-43c7-bd32-933963bf3773",
   "metadata": {},
   "source": [
    "## Two convolution layers with maxpooling size 5"
   ]
  },
  {
   "cell_type": "code",
   "execution_count": 21,
   "id": "b8d1748c-ece8-4800-ac21-857f0b92d5a2",
   "metadata": {},
   "outputs": [],
   "source": [
    "model3 = Sequential()\n",
    "\n",
    "model3.add(Embedding(input_dim=num_words,output_dim=128,input_length=max_log_length))\n",
    "\n",
    "num_filters = 128\n",
    "\n",
    "model3.add(Conv1D(num_filters, 5, activation='relu'))\n",
    "model3.add(MaxPooling1D(pool_size=5))\n",
    "\n",
    "# model3.add(LSTM(units=128,recurrent_dropout=0.5))\n",
    "# model3.add(Dropout(0.5))\n",
    "\n",
    "model3.add(Conv1D(num_filters, 5, activation='relu'))\n",
    "model3.add(MaxPooling1D(pool_size=5))\n",
    "\n",
    "model3.add(Flatten())\n",
    "\n",
    "# Add Dense layers\n",
    "hidden_units = [128, 64]\n",
    "for units in hidden_units:\n",
    "    model3.add(Dense(units, activation='relu'))\n",
    "    model3.add(Dropout(0.5))\n",
    "    \n",
    "model3.add(Dense(num_classes,activation='softmax'))\n",
    "\n",
    "# compile the model\n",
    "model3.compile(optimizer='adam',\n",
    "              loss='categorical_crossentropy',\n",
    "              metrics=['accuracy'])"
   ]
  },
  {
   "cell_type": "code",
   "execution_count": 22,
   "id": "5c9118a7-4de2-4ae5-ae79-1bb0866f05d9",
   "metadata": {},
   "outputs": [
    {
     "name": "stdout",
     "output_type": "stream",
     "text": [
      "Epoch 1/3\n",
      "1305/1305 [==============================] - 271s 207ms/step - loss: 1.1696 - accuracy: 0.4992 - val_loss: 1.0265 - val_accuracy: 0.5699\n",
      "Epoch 2/3\n",
      "1305/1305 [==============================] - 269s 206ms/step - loss: 0.9769 - accuracy: 0.6113 - val_loss: 0.9915 - val_accuracy: 0.5969\n",
      "Epoch 3/3\n",
      "1305/1305 [==============================] - 270s 207ms/step - loss: 0.8600 - accuracy: 0.6625 - val_loss: 1.0359 - val_accuracy: 0.5966\n"
     ]
    }
   ],
   "source": [
    "history = model3.fit(x_train, y_train,\n",
    "                    batch_size=128,\n",
    "                    epochs=3,\n",
    "                    verbose=1,\n",
    "                    validation_split=0.1)"
   ]
  },
  {
   "cell_type": "code",
   "execution_count": 31,
   "id": "5695c18b-ca66-45d7-8ed9-d5c735c472df",
   "metadata": {},
   "outputs": [],
   "source": [
    "model3.save('model_best_05_20.h5')"
   ]
  },
  {
   "cell_type": "code",
   "execution_count": 32,
   "id": "78419050-07e5-47ba-ba34-6a85323a0825",
   "metadata": {},
   "outputs": [],
   "source": [
    "blob_name = 'model_best_05_20.h5'\n",
    "client = storage.Client()\n",
    "\n",
    "blob = bucket.blob(blob_name)\n",
    "blob.upload_from_filename(blob_name)"
   ]
  },
  {
   "cell_type": "markdown",
   "id": "94ab0487-b2a2-44db-a218-f544f0d0ae97",
   "metadata": {},
   "source": [
    "## Get Confusion Matrix and Model Accuracy"
   ]
  },
  {
   "cell_type": "code",
   "execution_count": 17,
   "id": "58ef7ffe-a0db-46b0-99c2-7d8740dcda11",
   "metadata": {},
   "outputs": [],
   "source": [
    "import keras\n",
    "best_model = keras.models.load_model(\"model_top_songs.h5\")"
   ]
  },
  {
   "cell_type": "code",
   "execution_count": 20,
   "id": "61d8fba7-b5a9-41b3-957b-498031a1f371",
   "metadata": {},
   "outputs": [],
   "source": [
    "predictions = best_model.predict(x_test)"
   ]
  },
  {
   "cell_type": "code",
   "execution_count": 24,
   "id": "d7d52474-c93d-4e54-bf65-2c3fefd2e549",
   "metadata": {},
   "outputs": [],
   "source": [
    "import sklearn\n",
    "matrix = sklearn.metrics.confusion_matrix(y_test.argmax(axis=1), predictions.argmax(axis=1))"
   ]
  },
  {
   "cell_type": "code",
   "execution_count": 27,
   "id": "2c722bee-fc1b-4b94-98d7-9477fc1e342e",
   "metadata": {},
   "outputs": [
    {
     "data": {
      "text/plain": [
       "array([[7496,  459,   76,  440,  841],\n",
       "       [2269, 2527,  503, 1804, 2257],\n",
       "       [  79,  230, 7750,  685,  291],\n",
       "       [1387, 1367, 1214, 4838,  569],\n",
       "       [2019, 1607,  274,  546, 4838]])"
      ]
     },
     "execution_count": 27,
     "metadata": {},
     "output_type": "execute_result"
    }
   ],
   "source": [
    "matrix"
   ]
  },
  {
   "cell_type": "code",
   "execution_count": 45,
   "id": "8956b1db-1926-4a12-9bdd-8c39051c1fb1",
   "metadata": {},
   "outputs": [],
   "source": [
    "# Calculate row sums\n",
    "row_sums = np.sum(matrix, axis=1)\n",
    "\n",
    "# Divide each element of a row by the corresponding row sum\n",
    "normalized_matrix = matrix / row_sums[:, np.newaxis]"
   ]
  },
  {
   "cell_type": "code",
   "execution_count": 46,
   "id": "e6cfc059-b51c-44d6-8f44-6600d97c790a",
   "metadata": {},
   "outputs": [
    {
     "data": {
      "text/plain": [
       "array([[0.80498282, 0.04929124, 0.00816151, 0.04725086, 0.09031357],\n",
       "       [0.24241453, 0.26997863, 0.05373932, 0.19273504, 0.24113248],\n",
       "       [0.00874377, 0.02545656, 0.85777532, 0.07581627, 0.03220808],\n",
       "       [0.14794667, 0.14581333, 0.12949333, 0.51605333, 0.06069333],\n",
       "       [0.21747092, 0.17309349, 0.02951314, 0.05881086, 0.52111159]])"
      ]
     },
     "execution_count": 46,
     "metadata": {},
     "output_type": "execute_result"
    }
   ],
   "source": [
    "normalized_matrix"
   ]
  },
  {
   "cell_type": "code",
   "execution_count": 30,
   "id": "34674ddf-126f-47b1-a293-6108b2241dc4",
   "metadata": {},
   "outputs": [],
   "source": [
    "labels = ['country', 'pop', 'rap', 'rb', 'rock']"
   ]
  },
  {
   "cell_type": "code",
   "execution_count": 48,
   "id": "a7742c20-b08f-449c-a99f-04f40ad1033e",
   "metadata": {},
   "outputs": [
    {
     "data": {
      "image/png": "[encoded data removed]",
      "text/plain": [
       "<Figure size 800x600 with 2 Axes>"
      ]
     },
     "metadata": {},
     "output_type": "display_data"
    }
   ],
   "source": [
    "pd.set_option('display.float_format', '{:.0f}'.format)\n",
    "import seaborn as sns\n",
    "# Convert confusion matrix to a DataFrame\n",
    "cm_df = pd.DataFrame(normalized_matrix, index=labels, columns=labels)\n",
    "\n",
    "# Plot the confusion matrix\n",
    "plt.figure(figsize=(8, 6))\n",
    "sns.heatmap(cm_df, annot=True, cmap='Blues')\n",
    "plt.title('Confusion Matrix')\n",
    "plt.xlabel('Predicted Labels')\n",
    "plt.ylabel('True Labels')\n",
    "plt.show()"
   ]
  },
  {
   "cell_type": "code",
   "execution_count": 38,
   "id": "46243568-926e-43d1-8c5e-567f4abcbb03",
   "metadata": {},
   "outputs": [],
   "source": [
    "precision = np.diag(matrix) / np.sum(matrix, axis=0)"
   ]
  },
  {
   "cell_type": "code",
   "execution_count": 39,
   "id": "91dd6535-9b30-48ec-b244-c84d897962a7",
   "metadata": {},
   "outputs": [
    {
     "data": {
      "text/plain": [
       "array([0.56573585, 0.4082391 , 0.78944688, 0.58198003, 0.55002274])"
      ]
     },
     "execution_count": 39,
     "metadata": {},
     "output_type": "execute_result"
    }
   ],
   "source": [
    "precision"
   ]
  }
 ],
 "metadata": {
  "environment": {
   "kernel": "python3",
   "name": "tf2-gpu.2-8.m108",
   "type": "gcloud",
   "uri": "gcr.io/deeplearning-platform-release/tf2-gpu.2-8:m108"
  },
  "kernelspec": {
   "display_name": "Python 3 (ipykernel)",
   "language": "python",
   "name": "python3"
  },
  "language_info": {
   "codemirror_mode": {
    "name": "ipython",
    "version": 3
   },
   "file_extension": ".py",
   "mimetype": "text/x-python",
   "name": "python",
   "nbconvert_exporter": "python",
   "pygments_lexer": "ipython3",
   "version": "3.7.12"
  }
 },
 "nbformat": 4,
 "nbformat_minor": 5
}
